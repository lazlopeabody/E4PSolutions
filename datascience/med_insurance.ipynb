{
 "metadata": {
  "language_info": {
   "codemirror_mode": {
    "name": "ipython",
    "version": 3
   },
   "file_extension": ".py",
   "mimetype": "text/x-python",
   "name": "python",
   "nbconvert_exporter": "python",
   "pygments_lexer": "ipython3",
   "version": "3.8.5"
  },
  "orig_nbformat": 4,
  "kernelspec": {
   "name": "python3",
   "display_name": "Python 3.8.5 64-bit ('juslearn': conda)"
  },
  "interpreter": {
   "hash": "a151ed374657309399594241976f2ab9cb2307b7929a2a67f663721314b940cd"
  }
 },
 "nbformat": 4,
 "nbformat_minor": 2,
 "cells": [
  {
   "source": [
    "# CA - Med Insurance Project\n",
    "- Classes, Constructors, Methods, Instances"
   ],
   "cell_type": "markdown",
   "metadata": {}
  },
  {
   "cell_type": "code",
   "execution_count": 377,
   "metadata": {},
   "outputs": [],
   "source": [
    "class Patient:\n",
    "  #  def __init__(self, name, age, sex, bmi, num_of_child, smoker):\n",
    "    def __init__(self, plist):\n",
    "        self.name = plist[0]\n",
    "        self.age = plist[1]\n",
    "        self.sex = plist[2]\n",
    "        self.bmi = plist[3]\n",
    "        self.num_of_child = plist[4]\n",
    "        self.smoker = plist[5]\n",
    "\n",
    "        self.check_values(self.age, self.bmi, self.sex, self.num_of_child, self.smoker)\n",
    "\n",
    "\n",
    "    def estimated_insurance_cost(self):\n",
    "        est_cost = (250 * self.age) - (128 * self.sex) + (370 * self.bmi) + (425 * self.num_of_child) + (24000 * self.smoker) - 12500\n",
    "        print(\"{Patient_Name}’s estimated insurance costs is {estimated_cost} dollars.\".format(Patient_Name=self.name, estimated_cost=est_cost))\n",
    "\n",
    "    def update_age(self, new_age):\n",
    "        self.age = new_age\n",
    "        print(\"{Patient_Name} is now {Patient_Age} years old.\".format(Patient_Name=self.name, Patient_Age=self.age))\n",
    "\n",
    "    def update_bmi(self, new_bmi):\n",
    "        self.bmi = new_bmi\n",
    "        print(\"{Patient_Name} BMI is now {Patient_BMI}.\".format(Patient_Name=self.name, Patient_BMI=self.bmi))\n",
    "    \n",
    "    def update_smoker(self, new_smoker):\n",
    "        self.smoker = new_smoker\n",
    "        if self.smoker == 1:\n",
    "            print(\"{Patient_Name} is smoker.\".format(Patient_Name=self.name))\n",
    "        else:\n",
    "            print(\"{Patient_Name} is not a smoker.\".format(Patient_Name=self.name))\n",
    "\n",
    "    def update_num_childern(self, new_num_child):\n",
    "        self.num_of_child = new_num_child\n",
    "        if self.num_of_child <= 1:\n",
    "            print(\"{Patient_Name} has {Patient_NumChild} child.\".format(Patient_Name=self.name, Patient_NumChild=self.num_of_child))\n",
    "        else:\n",
    "            print(\"{Patient_Name} has {Patient_NumChild} childern.\".format(Patient_Name=self.name, Patient_NumChild=self.num_of_child))\n",
    "\n",
    "    def patient_profile(self):\n",
    "        patient_info = {}\n",
    "        patient_info[\"Name\"] = self.name\n",
    "        patient_info[\"Age\"] = self.age\n",
    "        patient_info[\"Sex\"] = self.sex\n",
    "        patient_info[\"BMI\"] = self.bmi\n",
    "        patient_info[\"Number_Child\"] = self.num_of_child\n",
    "        patient_info[\"Smoker\"] = self.smoker\n",
    "        return patient_info\n",
    "    \n",
    "\n",
    "    def check_values(self, age, bmi, sex, num_of_child, smoker):\n",
    "        try:\n",
    "            self.age = int(age)\n",
    "        except ValueError:\n",
    "            self.age = 0\n",
    "            print(\"Age is not an integer. Please re-enter a valid integer.\")\n",
    "        \n",
    "        try:\n",
    "            self.bmi = float(bmi)\n",
    "        except ValueError:\n",
    "            self.bmi = 0.0\n",
    "            print(\"BWI is not a valid Float. Please re-enter a valid Float.\")\n",
    "        \n",
    "        try:\n",
    "            self.num_of_child = int(num_of_child)\n",
    "        except ValueError:\n",
    "            self.num_of_child = 0\n",
    "            print(\"Num_child is not an integer. Please re-enter a valid integer.\")\n",
    "\n",
    "        \n",
    "        try: \n",
    "            self.sex = int(sex)\n",
    "            if (self.sex == 1) or (self.sex == 0):\n",
    "                self.sex == sex\n",
    "            else:\n",
    "                self.sex = 0    \n",
    "        except ValueError:\n",
    "            print(\"Not a Valid Sex Entry. Please re-enter 1=Male or 0=Female.\")\n",
    "    \n",
    "        \n",
    "        try: \n",
    "            self.smoker = int(smoker)\n",
    "            if (self.smoker == 1) or (self.smoker == 0):\n",
    "                self.smoker == smoker\n",
    "            else:\n",
    "                self.smoker = 0    \n",
    "        except ValueError:\n",
    "            print(\"Not a Valid Smoker Entry. Please re-enter 1=Smoker or 0=Non-Smoker.\")"
   ]
  },
  {
   "source": [
    "## build constructor"
   ],
   "cell_type": "markdown",
   "metadata": {}
  },
  {
   "cell_type": "code",
   "execution_count": 369,
   "metadata": {},
   "outputs": [
    {
     "output_type": "stream",
     "name": "stdout",
     "text": [
      "John Doe’s estimated insurance costs is 1836.0 dollars.\nJohn Doe is now 28 years old.\nJohn Doe’s estimated insurance costs is 2586.0 dollars.\nJohn Doe has 1 child.\nJohn Doe’s estimated insurance costs is 3011.0 dollars.\n"
     ]
    },
    {
     "output_type": "execute_result",
     "data": {
      "text/plain": [
       "{'Name': 'John Doe',\n",
       " 'Age': 28,\n",
       " 'Sex': 1,\n",
       " 'BMI': 22.2,\n",
       " 'Number_Child': 1,\n",
       " 'Smoker': 0}"
      ]
     },
     "metadata": {},
     "execution_count": 369
    }
   ],
   "source": [
    "# create instance to test __init__ method\n",
    "patient1 = Patient(\"John Doe\", 25, 1, 22.2, 0, 0)\n",
    "\n",
    "patient1.estimated_insurance_cost()\n",
    "\n",
    "patient1.update_age(28)\n",
    "\n",
    "patient1.estimated_insurance_cost()\n",
    "\n",
    "patient1.age\n",
    "\n",
    "patient1.update_num_childern(1)\n",
    "\n",
    "patient1.estimated_insurance_cost()\n",
    "\n",
    "patient1.patient_profile()"
   ]
  },
  {
   "cell_type": "code",
   "execution_count": 368,
   "metadata": {},
   "outputs": [
    {
     "output_type": "execute_result",
     "data": {
      "text/plain": [
       "{'Name': 'John Deer',\n",
       " 'Age': 25,\n",
       " 'Sex': 1,\n",
       " 'BMI': 25.0,\n",
       " 'Number_Child': 3,\n",
       " 'Smoker': 0}"
      ]
     },
     "metadata": {},
     "execution_count": 368
    }
   ],
   "source": [
    "patient2.patient_profile()"
   ]
  },
  {
   "cell_type": "code",
   "execution_count": 367,
   "metadata": {},
   "outputs": [],
   "source": [
    "patient2 = Patient(\"John Deer\", 25, 1, 25.0, 3, 0)"
   ]
  },
  {
   "cell_type": "code",
   "execution_count": 384,
   "metadata": {},
   "outputs": [],
   "source": [
    "patient_list = ['John Jon', 33, 0, 19.0, 5, 1]"
   ]
  },
  {
   "cell_type": "code",
   "execution_count": 385,
   "metadata": {},
   "outputs": [],
   "source": [
    "patient3 = Patient(patient_list)"
   ]
  },
  {
   "cell_type": "code",
   "execution_count": 386,
   "metadata": {},
   "outputs": [
    {
     "output_type": "execute_result",
     "data": {
      "text/plain": [
       "{'Name': 'John Jon',\n",
       " 'Age': 33,\n",
       " 'Sex': 0,\n",
       " 'BMI': 19.0,\n",
       " 'Number_Child': 5,\n",
       " 'Smoker': 1}"
      ]
     },
     "metadata": {},
     "execution_count": 386
    }
   ],
   "source": [
    "patient3.patient_profile()"
   ]
  },
  {
   "cell_type": "code",
   "execution_count": 390,
   "metadata": {},
   "outputs": [
    {
     "output_type": "stream",
     "name": "stdout",
     "text": [
      "John Jon’s estimated insurance costs is 28905.0 dollars.\n"
     ]
    }
   ],
   "source": [
    "patient3.estimated_insurance_cost()"
   ]
  }
 ]
}