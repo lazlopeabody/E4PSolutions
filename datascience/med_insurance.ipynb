{
 "metadata": {
  "language_info": {
   "codemirror_mode": {
    "name": "ipython",
    "version": 3
   },
   "file_extension": ".py",
   "mimetype": "text/x-python",
   "name": "python",
   "nbconvert_exporter": "python",
   "pygments_lexer": "ipython3",
   "version": "3.8.5"
  },
  "orig_nbformat": 4,
  "kernelspec": {
   "name": "python3",
   "display_name": "Python 3.8.5 64-bit ('juslearn': conda)"
  },
  "interpreter": {
   "hash": "a151ed374657309399594241976f2ab9cb2307b7929a2a67f663721314b940cd"
  }
 },
 "nbformat": 4,
 "nbformat_minor": 2,
 "cells": [
  {
   "source": [
    "# CA - Med Insurance Project\n",
    "- Classes, Constructors, Methods, Instances"
   ],
   "cell_type": "markdown",
   "metadata": {}
  },
  {
   "cell_type": "code",
   "execution_count": 49,
   "metadata": {},
   "outputs": [],
   "source": [
    "class Patient:\n",
    "    def __init__(self, name, age, sex, bmi, num_of_child, smoker):\n",
    "        self.name = name\n",
    "        self.age = age\n",
    "        self.sex = sex\n",
    "        self.bmi = bmi\n",
    "        self.num_of_child = num_of_child\n",
    "        self.smoker = smoker\n",
    "    \n",
    "    def estimated_insurance_cost(self):\n",
    "        est_cost = (250 * self.age) - (128 * self.sex) + (370 * self.bmi) + (425 * self.num_of_child) + (24000 * self.smoker) - 12500\n",
    "        print(\"{Patient_Name}’s estimated insurance costs is {estimated_cost} dollars.\".format(Patient_Name=self.name, estimated_cost=est_cost))\n",
    "\n",
    "    def update_age(self, new_age):\n",
    "        self.age = new_age\n",
    "        print(\"{Patient_Name} is now {Patient_Age} years old.\".format(Patient_Name=self.name, Patient_Age=self.age))"
   ]
  },
  {
   "source": [
    "## build constructor"
   ],
   "cell_type": "markdown",
   "metadata": {}
  },
  {
   "cell_type": "code",
   "execution_count": 66,
   "metadata": {},
   "outputs": [
    {
     "output_type": "stream",
     "name": "stdout",
     "text": [
      "John Doe’s estimated insurance costs is 1836.0 dollars.\nJohn Doe is now 55 years old.\nJohn Doe’s estimated insurance costs is 9336.0 dollars.\n"
     ]
    },
    {
     "output_type": "execute_result",
     "data": {
      "text/plain": [
       "55"
      ]
     },
     "metadata": {},
     "execution_count": 66
    }
   ],
   "source": [
    "# create instance to test __init__ method\n",
    "patient1 = Patient(\"John Doe\", 25, 1, 22.2, 0, 0)\n",
    "\n",
    "patient1.estimated_insurance_cost()\n",
    "\n",
    "patient1.update_age(55)\n",
    "\n",
    "patient1.estimated_insurance_cost()\n",
    "\n",
    "patient1.age"
   ]
  }
 ]
}