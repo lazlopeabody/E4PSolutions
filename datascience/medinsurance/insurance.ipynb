{
 "metadata": {
  "language_info": {
   "codemirror_mode": {
    "name": "ipython",
    "version": 3
   },
   "file_extension": ".py",
   "mimetype": "text/x-python",
   "name": "python",
   "nbconvert_exporter": "python",
   "pygments_lexer": "ipython3",
   "version": "3.9.2"
  },
  "orig_nbformat": 2,
  "kernelspec": {
   "name": "python392jvsc74a57bd0abf13ae1d071f1b7b5b1f8ca41d63993462f0bbe9f7d4ec8dd1dbc21ceb47404",
   "display_name": "Python 3.9.2 64-bit ('kaggle': conda)"
  }
 },
 "nbformat": 4,
 "nbformat_minor": 2,
 "cells": [
  {
   "cell_type": "code",
   "execution_count": 1,
   "metadata": {},
   "outputs": [],
   "source": [
    "import pyinputplus as pyip"
   ]
  },
  {
   "cell_type": "code",
   "execution_count": 2,
   "metadata": {},
   "outputs": [],
   "source": [
    "# create the initial variables below\n",
    "age = 28 \n",
    "sex = 0\n",
    "bmi = 26.2\n",
    "childern = 3\n",
    "smoker = 0\n",
    "\n",
    "insurance_dict = {'age':28, 'sex':0, 'bmi':26.2, 'childern':3, 'smoker':0}"
   ]
  },
  {
   "cell_type": "code",
   "execution_count": 9,
   "metadata": {},
   "outputs": [],
   "source": [
    "#base insurance caluclation function\n",
    "def insurance_calculation(a, s, b, numchil, smk):\n",
    "    c = (250 * a) - (128 * s) + (370 * b) + (425 * numchil) + (24000 * smk) - 12500\n",
    "    return c\n",
    "\n",
    "#calculate change in insurance\n",
    "def insurance_chg(ic, n_ic):\n",
    "    return ic - n_ic\n"
   ]
  },
  {
   "cell_type": "code",
   "execution_count": 4,
   "metadata": {
    "tags": []
   },
   "outputs": [
    {
     "output_type": "stream",
     "name": "stdout",
     "text": [
      "{'age': 28, 'sex': 0, 'bmi': 26.2, 'childern': 3, 'smoker': 0}\n",
      "Please Enter one of the following:\n",
      "* age\n",
      "* sex\n",
      "* child\n",
      "* bmi\n",
      "* smoker\n",
      "Please enter your age (i.e. 24, 55) \n",
      "Enter 1 if you have another edit. If complete, enter 0,  \n",
      "Please Enter one of the following:\n",
      "* age\n",
      "* sex\n",
      "* child\n",
      "* bmi\n",
      "* smoker\n",
      "Please enter your sex: \n",
      "1 = male \t0 = female\n",
      "Enter 1 if you have another edit. If complete, enter 0,  \n",
      "'child' is not an integer.\n",
      "Enter 1 if you have another edit. If complete, enter 0,  \n",
      "Please Enter one of the following:\n",
      "* age\n",
      "* sex\n",
      "* child\n",
      "* bmi\n",
      "* smoker\n",
      "Please enter your BMI: \n",
      "Enter 1 if you have another edit. If complete, enter 0,  \n",
      "Please Enter one of the following:\n",
      "* age\n",
      "* sex\n",
      "* child\n",
      "* bmi\n",
      "* smoker\n",
      "Please enter [1 for smoker OR 0 for non-smoker]:\n",
      "Enter 1 if you have another edit. If complete, enter 0,  \n",
      "Please Enter one of the following:\n",
      "* age\n",
      "* sex\n",
      "* child\n",
      "* bmi\n",
      "* smoker\n",
      "Please enter your total number of childern: \n",
      "Enter 1 if you have another edit. If complete, enter 0,  \n"
     ]
    }
   ],
   "source": [
    "print(insurance_dict)\n",
    "# userinput function\n",
    "def enter_data(dict):\n",
    "\n",
    "    u_input = pyip.inputMenu(['age', 'sex', 'child', 'bmi', 'smoker'], prompt='Please Enter one of the following:\\n', caseSensitive=True)\n",
    "\n",
    "    while(True):\n",
    "\n",
    "        if u_input == 'age':\n",
    "            dict[u_input] = pyip.inputInt(prompt='Please enter your age (i.e. 24, 55) \\n', max=100)\n",
    "\n",
    "        if u_input == 'sex':\n",
    "            dict[u_input] = pyip.inputInt(prompt='Please enter your sex: \\n1 = male \\t0 = female\\n')\n",
    "\n",
    "        if u_input == 'child':\n",
    "            dict[u_input] = pyip.inputInt(prompt='Please enter your total number of childern: \\n', max=15)\n",
    "\n",
    "        if u_input == 'bmi':\n",
    "            dict[u_input] = pyip.inputFloat(prompt='Please enter your BMI: \\n', max=50.0)\n",
    "\n",
    "        if u_input == 'smoker':\n",
    "            dict[u_input] = pyip.inputInt(prompt='Please enter [1 for smoker OR 0 for non-smoker]:\\n')\n",
    "        \n",
    "        exit_input = pyip.inputInt(prompt='Enter 1 if you have another edit. If complete, enter 0,  \\n', max=1)\n",
    "        \n",
    "        if exit_input == 0:\n",
    "            break\n",
    "        else: \n",
    "            u_input = pyip.inputMenu(['age', 'sex', 'child', 'bmi', 'smoker'], prompt='Please Enter one of the following:\\n')    \n",
    "\n",
    "enter_data(insurance_dict)"
   ]
  },
  {
   "cell_type": "code",
   "execution_count": 11,
   "metadata": {},
   "outputs": [
    {
     "output_type": "stream",
     "name": "stdout",
     "text": [
      "This person's insurance cost is 5469.0 dollars.\n39177.0\n"
     ]
    },
    {
     "output_type": "execute_result",
     "data": {
      "text/plain": [
       "-33708.0"
      ]
     },
     "metadata": {},
     "execution_count": 11
    }
   ],
   "source": [
    "# Add insurance estimate formula below\n",
    "ic = insurance_calculation(age, sex, bmi, childern, smoker)\n",
    "print(\"This person's insurance cost is \" + str(ic) + \" dollars.\")\n",
    "new_ic = insurance_calculation(insurance_dict['age'], insurance_dict['sex'], insurance_dict['bmi'], insurance_dict['childern'], insurance_dict['smoker'])\n",
    "print(new_ic)\n",
    "\n",
    "# Age Factor\n",
    "insurance_chg(ic, new_ic)"
   ]
  },
  {
   "cell_type": "code",
   "execution_count": null,
   "metadata": {},
   "outputs": [],
   "source": []
  },
  {
   "cell_type": "code",
   "execution_count": null,
   "metadata": {},
   "outputs": [],
   "source": []
  }
 ]
}