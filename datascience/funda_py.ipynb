{
 "metadata": {
  "language_info": {
   "codemirror_mode": {
    "name": "ipython",
    "version": 3
   },
   "file_extension": ".py",
   "mimetype": "text/x-python",
   "name": "python",
   "nbconvert_exporter": "python",
   "pygments_lexer": "ipython3",
   "version": "3.9.2"
  },
  "orig_nbformat": 2,
  "kernelspec": {
   "name": "python392jvsc74a57bd0abf13ae1d071f1b7b5b1f8ca41d63993462f0bbe9f7d4ec8dd1dbc21ceb47404",
   "display_name": "Python 3.9.2 64-bit ('kaggle': conda)"
  },
  "metadata": {
   "interpreter": {
    "hash": "a151ed374657309399594241976f2ab9cb2307b7929a2a67f663721314b940cd"
   }
  }
 },
 "nbformat": 4,
 "nbformat_minor": 2,
 "cells": [
  {
   "cell_type": "code",
   "execution_count": null,
   "metadata": {},
   "outputs": [],
   "source": [
    "\"\"\" Work on your fundamental Python \"\"\"\n",
    "my_age = 41\n",
    "half_my_age = (my_age / 2)\n",
    "greeting = \"Hello my name is \"\n",
    "name = \"Tony P\"\n",
    "greeting_with_name = greeting + name\n",
    "\n",
    "print(greeting_with_name)"
   ]
  },
  {
   "cell_type": "code",
   "execution_count": 68,
   "metadata": {},
   "outputs": [
    {
     "output_type": "stream",
     "name": "stdout",
     "text": [
      "This person's insurance cost is 5469.0 dollars.\nThe change in cost of insurance after changing 5469.0 equals ==> 1000.0 dollars.\nThe change in cost of insurance after changing 5469.0 equals ==> 1147.0 dollars.\nThe change in cost of insurance after increasing BMI by 3.1 is None dollars.\nThe change in cost of insurance after changing 5469.0 equals ==> -128.0 dollars.\nThe change in cost of insurance after for being a male instead of female is None dollars.\nThe change in cost of insurance after changing 5469.0 equals ==> 24000.0 dollars.\nThe change in cost of insurance user smokes None dollars.\nThe change in cost of insurance after changing 5469.0 equals ==> 2975.0 dollars.\nThe change in cost of insurance if number of childern equals 10: None dollars.\n"
     ]
    }
   ],
   "source": [
    "# meidcal insurance cost project\n",
    "\n",
    "# init variables\n",
    "age = 28 \n",
    "sex = 0\n",
    "bmi = 26.2\n",
    "num_of_childern = 3\n",
    "smoker = 0\n",
    "\n",
    "insurance_dict = {'age':28, 'sex':0, 'bmi':26.2, }\n",
    "\n",
    "# calculate cost \n",
    "def insurance_cost(a, s, b, numchil, smk):\n",
    "    cost = (250 * a) - (128 * s) + (370 * b) + (425 * numchil) + (24000 * smk) - 12500\n",
    "    return float(cost)\n",
    "\n",
    "# calculate change in cost\n",
    "def _chg_cost(i, func):\n",
    "    chg_ic = func - i\n",
    "    return print(\"The change in cost of insurance after changing \" + str(i) + \" equals ==> \" + str(chg_ic) + \" dollars.\")\n",
    "\n",
    "# function to show difference of cost\n",
    "\n",
    "\n",
    "# print insurance_cost to user\n",
    "base_ic = insurance_cost(age, sex, bmi, num_of_childern, smoker)\n",
    "print(\"This person's insurance cost is \" + str(base_ic) + \" dollars.\")\n",
    "\n",
    "# Age Factor\n",
    "age += 4\n",
    "_chg_cost(base_ic, insurance_cost(age, sex, bmi, num_of_childern, smoker))\n",
    "age = 28\n",
    "\n",
    "# BMI Factor\n",
    "bmi += 3.1\n",
    "chg_ic = _chg_cost(base_ic, insurance_cost(age, sex, bmi, num_of_childern, smoker))\n",
    "print(\"The change in cost of insurance after increasing BMI by 3.1 is \" + str(chg_ic) + \" dollars.\")\n",
    "bmi = 26.2\n",
    "\n",
    "# Male vs Female Factor\n",
    "sex = 1\n",
    "chg_ic = _chg_cost(base_ic, insurance_cost(age, sex, bmi, num_of_childern, smoker))\n",
    "print(\"The change in cost of insurance after for being a male instead of female is \" + str(chg_ic) + \" dollars.\")\n",
    "sex = 0\n",
    "\n",
    "# smoker chg\n",
    "smoker = 1\n",
    "chg_ic = _chg_cost(base_ic, insurance_cost(age, sex, bmi, num_of_childern, smoker))\n",
    "print(\"The change in cost of insurance user smokes \" + str(chg_ic) + \" dollars.\")\n",
    "smoker = 0\n",
    "\n",
    "# number of childern \n",
    "num_of_childern = 10\n",
    "chg_ic = _chg_cost(base_ic, insurance_cost(age, sex, bmi, num_of_childern, smoker))\n",
    "print(\"The change in cost of insurance if number of childern equals \" + str(num_of_childern) + \": \" + str(chg_ic) + \" dollars.\")\n",
    "num_of_childern = 3\n"
   ]
  },
  {
   "cell_type": "code",
   "execution_count": 36,
   "metadata": {},
   "outputs": [
    {
     "output_type": "stream",
     "name": "stdout",
     "text": [
      "3 4 3.5\n"
     ]
    }
   ],
   "source": [
    "lst = [1,2,3,4,5,7,8]\n",
    "n = int(len(lst)/2)\n",
    "n1 = int(len(lst)/2) + 1\n",
    "n2 = len(lst)/2\n",
    "\n",
    "print(n, n1, n2)"
   ]
  },
  {
   "cell_type": "code",
   "execution_count": 38,
   "metadata": {},
   "outputs": [
    {
     "output_type": "execute_result",
     "data": {
      "text/plain": [
       "4"
      ]
     },
     "metadata": {},
     "execution_count": 38
    }
   ],
   "source": [
    "def middle_element(l):\n",
    "    n = int(len(l)/2)\n",
    "    if len(l) % 2 == 0:\n",
    "        midavg = (l[n] + l[n+1] / 2)\n",
    "        return midavg\n",
    "    else:\n",
    "        return l[n]\n",
    "\n",
    "middle_element(lst)"
   ]
  }
 ]
}