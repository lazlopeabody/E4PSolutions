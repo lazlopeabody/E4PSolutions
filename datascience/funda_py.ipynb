{
 "metadata": {
  "language_info": {
   "codemirror_mode": {
    "name": "ipython",
    "version": 3
   },
   "file_extension": ".py",
   "mimetype": "text/x-python",
   "name": "python",
   "nbconvert_exporter": "python",
   "pygments_lexer": "ipython3",
   "version": "3.8.5"
  },
  "orig_nbformat": 2,
  "kernelspec": {
   "name": "python385jvsc74a57bd0a151ed374657309399594241976f2ab9cb2307b7929a2a67f663721314b940cd",
   "display_name": "Python 3.8.5 64-bit ('juslearn': conda)"
  },
  "metadata": {
   "interpreter": {
    "hash": "a151ed374657309399594241976f2ab9cb2307b7929a2a67f663721314b940cd"
   }
  }
 },
 "nbformat": 4,
 "nbformat_minor": 2,
 "cells": [
  {
   "cell_type": "code",
   "execution_count": 7,
   "metadata": {},
   "outputs": [
    {
     "output_type": "stream",
     "name": "stdout",
     "text": [
      "Hello my name is Tony P\n"
     ]
    }
   ],
   "source": [
    "\"\"\" Work on your fundamental Python \"\"\"\n",
    "my_age = 41\n",
    "half_my_age = (my_age / 2)\n",
    "greeting = \"Hello my name is \"\n",
    "name = \"Tony P\"\n",
    "greeting_with_name = greeting + name\n",
    "\n",
    "print(greeting_with_name)"
   ]
  },
  {
   "cell_type": "code",
   "execution_count": 15,
   "metadata": {},
   "outputs": [
    {
     "output_type": "stream",
     "name": "stdout",
     "text": [
      "This person's insurance cost is 5469.0 dollars.\n"
     ]
    }
   ],
   "source": [
    "# meidcal insurance cost project\n",
    "\n",
    "# init variables\n",
    "age = 28 \n",
    "sex = 0\n",
    "bmi = 26.2\n",
    "num_of_childern = 3\n",
    "smoker = 0\n",
    "\n",
    "# calculate cost \n",
    "insurance_cost = (250 * age) - (128 * sex) + (370 * bmi) + (425 * num_of_childern) + (24000 * smoker) - 12500\n",
    "\n",
    "# print insurance_cost to user\n",
    "print(\"This person's insurance cost is \" + str(insurance_cost) + \" dollars.\")\n",
    "\n",
    "# Age Factor\n",
    "age += 4\n",
    "new_insurance_cost = (250 * age) - (128 * sex) + (370 * bmi) + (425 * num_of_childern) + (24000 * smoker) - 12500\n",
    "\n",
    "# BMI Factor\n"
   ]
  }
 ]
}