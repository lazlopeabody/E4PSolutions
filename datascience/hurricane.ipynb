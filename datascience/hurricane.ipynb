{
 "metadata": {
  "language_info": {
   "codemirror_mode": {
    "name": "ipython",
    "version": 3
   },
   "file_extension": ".py",
   "mimetype": "text/x-python",
   "name": "python",
   "nbconvert_exporter": "python",
   "pygments_lexer": "ipython3",
   "version": "3.8.5"
  },
  "orig_nbformat": 4,
  "kernelspec": {
   "name": "python3",
   "display_name": "Python 3.8.5 64-bit ('juslearn': conda)"
  },
  "interpreter": {
   "hash": "a151ed374657309399594241976f2ab9cb2307b7929a2a67f663721314b940cd"
  }
 },
 "nbformat": 4,
 "nbformat_minor": 2,
 "cells": [
  {
   "cell_type": "code",
   "execution_count": 138,
   "metadata": {},
   "outputs": [],
   "source": [
    "# names of hurricanes\n",
    "names = ['Cuba I', 'San Felipe II Okeechobee', 'Bahamas', 'Cuba II', 'CubaBrownsville', 'Tampico', 'Labor Day', 'New England', 'Carol', 'Janet', 'Carla', 'Hattie', 'Beulah', 'Camille', 'Edith', 'Anita', 'David', 'Allen', 'Gilbert', 'Hugo', 'Andrew', 'Mitch', 'Isabel', 'Ivan', 'Emily', 'Katrina', 'Rita', 'Wilma', 'Dean', 'Felix', 'Matthew', 'Irma', 'Maria', 'Michael']\n",
    "\n",
    "# months of hurricanes\n",
    "months = ['October', 'September', 'September', 'November', 'August', 'September', 'September', 'September', 'September', 'September', 'September', 'October', 'September', 'August', 'September', 'September', 'August', 'August', 'September', 'September', 'August', 'October', 'September', 'September', 'July', 'August', 'September', 'October', 'August', 'September', 'October', 'September', 'September', 'October']\n",
    "\n",
    "# years of hurricanes\n",
    "years = [1924, 1928, 1932, 1932, 1933, 1933, 1935, 1938, 1953, 1955, 1961, 1961, 1967, 1969, 1971, 1977, 1979, 1980, 1988, 1989, 1992, 1998, 2003, 2004, 2005, 2005, 2005, 2005, 2007, 2007, 2016, 2017, 2017, 2018]\n",
    "\n",
    "# maximum sustained winds (mph) of hurricanes\n",
    "max_sustained_winds = [165, 160, 160, 175, 160, 160, 185, 160, 160, 175, 175, 160, 160, 175, 160, 175, 175, 190, 185, 160, 175, 180, 165, 165, 160, 175, 180, 185, 175, 175, 165, 180, 175, 160]\n",
    "\n",
    "# areas affected by each hurricane\n",
    "areas_affected = [['Central America', 'Mexico', 'Cuba', 'Florida', 'The Bahamas'], ['Lesser Antilles', 'The Bahamas', 'United States East Coast', 'Atlantic Canada'], ['The Bahamas', 'Northeastern United States'], ['Lesser Antilles', 'Jamaica', 'Cayman Islands', 'Cuba', 'The Bahamas', 'Bermuda'], ['The Bahamas', 'Cuba', 'Florida', 'Texas', 'Tamaulipas'], ['Jamaica', 'Yucatn Peninsula'], ['The Bahamas', 'Florida', 'Georgia', 'The Carolinas', 'Virginia'], ['Southeastern United States', 'Northeastern United States', 'Southwestern Quebec'], ['Bermuda', 'New England', 'Atlantic Canada'], ['Lesser Antilles', 'Central America'], ['Texas', 'Louisiana', 'Midwestern United States'], ['Central America'], ['The Caribbean', 'Mexico', 'Texas'], ['Cuba', 'United States Gulf Coast'], ['The Caribbean', 'Central America', 'Mexico', 'United States Gulf Coast'], ['Mexico'], ['The Caribbean', 'United States East coast'], ['The Caribbean', 'Yucatn Peninsula', 'Mexico', 'South Texas'], ['Jamaica', 'Venezuela', 'Central America', 'Hispaniola', 'Mexico'], ['The Caribbean', 'United States East Coast'], ['The Bahamas', 'Florida', 'United States Gulf Coast'], ['Central America', 'Yucatn Peninsula', 'South Florida'], ['Greater Antilles', 'Bahamas', 'Eastern United States', 'Ontario'], ['The Caribbean', 'Venezuela', 'United States Gulf Coast'], ['Windward Islands', 'Jamaica', 'Mexico', 'Texas'], ['Bahamas', 'United States Gulf Coast'], ['Cuba', 'United States Gulf Coast'], ['Greater Antilles', 'Central America', 'Florida'], ['The Caribbean', 'Central America'], ['Nicaragua', 'Honduras'], ['Antilles', 'Venezuela', 'Colombia', 'United States East Coast', 'Atlantic Canada'], ['Cape Verde', 'The Caribbean', 'British Virgin Islands', 'U.S. Virgin Islands', 'Cuba', 'Florida'], ['Lesser Antilles', 'Virgin Islands', 'Puerto Rico', 'Dominican Republic', 'Turks and Caicos Islands'], ['Central America', 'United States Gulf Coast (especially Florida Panhandle)']]\n",
    "\n",
    "# damages (USD($)) of hurricanes\n",
    "damages = ['Damages not recorded', '100M', 'Damages not recorded', '40M', '27.9M', '5M', 'Damages not recorded', '306M', '2M', '65.8M', '326M', '60.3M', '208M', '1.42B', '25.4M', 'Damages not recorded', '1.54B', '1.24B', '7.1B', '10B', '26.5B', '6.2B', '5.37B', '23.3B', '1.01B', '125B', '12B', '29.4B', '1.76B', '720M', '15.1B', '64.8B', '91.6B', '25.1B']\n",
    "\n",
    "# deaths for each hurricane\n",
    "deaths = [90,4000,16,3103,179,184,408,682,5,1023,43,319,688,259,37,11,2068,269,318,107,65,19325,51,124,17,1836,125,87,45,133,603,138,3057,74]"
   ]
  },
  {
   "source": [
    "# write your update damages function here:\n",
    "\n",
    "Hurricanes, also known as cyclones or typhoons, are one of the most powerful forces of nature on Earth. Due to climate change caused by human activity, the number and intensity of hurricanes has risen, calling for better preparation by the many communities that are devastated by them. As a concerned environmentalist, you want to look at data about the most powerful hurricanes that have occurred.\n",
    "\n",
    "Begin by looking at the damages list. The list contains strings representing the total cost in USD($) caused by 34 category 5 hurricanes (wind speeds ≥ 157 mph (252 km/h )) in the Atlantic region. For some of the hurricanes, damage data was not recorded (\"Damages not recorded\"), while the rest are written in the format \"Prefix-B/M\", where B stands for billions (1000000000) and M stands for millions (1000000).\n",
    "\n",
    "Write a function that returns a new list of updated damages where the recorded data is converted to float values and the missing data is retained as \"Damages not recorded\".\n",
    "\n",
    "Test your function with the data stored in damages."
   ],
   "cell_type": "markdown",
   "metadata": {}
  },
  {
   "cell_type": "code",
   "execution_count": 139,
   "metadata": {},
   "outputs": [],
   "source": [
    "def damages_update(_damages):\n",
    "    f_damages = []\n",
    "    #conversion = {'M':1000000, 'B':1000000000}\n",
    "\n",
    "    for cost in _damages:\n",
    "        if cost.endswith('M'):\n",
    "            f_damages.append(float(cost.strip('M')) * 1000000)\n",
    "        elif cost.endswith('B'):\n",
    "            f_damages.append(float(cost.strip('B')) * 1000000000)\n",
    "        else:\n",
    "            f_damages.append(cost)\n",
    "\n",
    "    return f_damages"
   ]
  },
  {
   "cell_type": "code",
   "execution_count": 140,
   "metadata": {},
   "outputs": [],
   "source": [
    "#print(type(damages_update(damages)[0]), type(damages_update(damages)[1]))\n",
    "adj_damages = damages_update(damages)"
   ]
  },
  {
   "source": [
    "# write your construct hurricane dictionary function here:\n",
    "\n",
    "Additional data collected on the 34 strongest Atlantic hurricanes are provided in a series of lists. The data includes:\n",
    "\n",
    "* names: names of the hurricanes\n",
    "* months: months in which the hurricanes occurred\n",
    "* years: years in which the hurricanes occurred\n",
    "* max_sustained_winds: maximum sustained winds (miles per hour) of the hurricanes\n",
    "* areas_affected: list of different areas affected by each of the hurricanes\n",
    "* deaths: total number of deaths caused by each of the hurricanes\n",
    "\n",
    "The data is organized such that the data at each index, from 0 to 33, corresponds to the same hurricane.\n",
    "\n",
    "For example, names[0] yields the “Cuba I” hurricane, which ouccred in months[0] (October) years[0] (1924).\n",
    "\n",
    "Write a function that constructs a dictionary made out of the lists, where the keys of the dictionary are the names of the hurricanes, and the values are dictionaries themselves containing a key for each piece of data (Name, Month, Year,Max Sustained Wind, Areas Affected, Damage, Death) about the hurricane.\n",
    "\n",
    "Thus the key \"Cuba I\" would have the value: {'Name': 'Cuba I', 'Month': 'October', 'Year': 1924, 'Max Sustained Wind': 165, 'Areas Affected': ['Central America', 'Mexico', 'Cuba', 'Florida', 'The Bahamas'], 'Damage': 'Damages not recorded', 'Deaths': 90}.\n",
    "\n",
    "Test your function on the lists of data provided."
   ],
   "cell_type": "markdown",
   "metadata": {}
  },
  {
   "cell_type": "code",
   "execution_count": 141,
   "metadata": {},
   "outputs": [],
   "source": [
    "def hurricane_list(_names, _months, _years, _msuswinds, _aa, _damages, _deaths):\n",
    "    hurricane_info = {}\n",
    "\n",
    "    for x in range(0, len(names)):\n",
    "        hurricane_info[names[x]] = {'Name':_names[x], 'Month':_months[x], 'Year':_years[x], 'Max Sustained Wind':_msuswinds[x], 'Areas Affected':_aa[x], 'Damage': _damages[x], 'Deaths': _deaths[x]}\n",
    "\n",
    "    return hurricane_info"
   ]
  },
  {
   "cell_type": "code",
   "execution_count": null,
   "metadata": {},
   "outputs": [],
   "source": [
    "list_hurricane = hurricane_list(names, months, years, max_sustained_winds, areas_affected, damages, deaths)"
   ]
  },
  {
   "source": [
    "# write your construct hurricane by year dictionary function here:\n",
    "\n",
    "In addition to organizing the hurricanes in a dictionary with names as the key, you want to be able to organize the hurricanes by year.\n",
    "\n",
    "Write a function that converts the current dictionary of hurricanes to a new dictionary, where the keys are years and the values are lists containing a dictionary for each hurricane that occurred in that year.\n",
    "\n",
    "For example, the key 1932 would yield the value: [{'Name': 'Bahamas', 'Month': 'September', 'Year': 1932, 'Max Sustained Wind': 160, 'Areas Affected': ['The Bahamas', 'Northeastern United States'], 'Damage': 'Damages not recorded', 'Deaths': 16}, {'Name': 'Cuba II', 'Month': 'November', 'Year': 1932, 'Max Sustained Wind': 175, 'Areas Affected': ['Lesser Antilles', 'Jamaica', 'Cayman Islands', 'Cuba', 'The Bahamas', 'Bermuda'], 'Damage': 40000000.0, 'Deaths': 3103}].\n",
    "\n",
    "Test your function on your hurricane dictionary.\n",
    "\n",
    "### code to understand dictionarys and append, where my issues happened for 1day:\n",
    "```python\n",
    "    year_hur = {}\n",
    "    year_hur[1932] = [list_hurricane['Bahamas']]\n",
    "    year_hur[1932].append(list_hurricane['Cuba II'])\n",
    "    year_hur[1924] = [list_hurricane['Cuba I']]\n",
    "    year_hur\n",
    "```"
   ],
   "cell_type": "markdown",
   "metadata": {}
  },
  {
   "cell_type": "code",
   "execution_count": 142,
   "metadata": {},
   "outputs": [],
   "source": [
    "def yr_hurricane(_listhurricane):\n",
    "    year_hurricane = {}\n",
    "\n",
    "    for key in _listhurricane.keys():\n",
    "        hur_year = _listhurricane[key].get('Year')\n",
    "\n",
    "        try:\n",
    "            year_hurricane[hur_year].append(_listhurricane[key])\n",
    "        except KeyError:\n",
    "            year_hurricane[hur_year] = [_listhurricane[key]]\n",
    "    \n",
    "    return year_hurricane"
   ]
  },
  {
   "cell_type": "code",
   "execution_count": null,
   "metadata": {},
   "outputs": [],
   "source": [
    "yr_hurricane(list_hurricane)"
   ]
  },
  {
   "source": [
    "# write your count affected areas function here:\n",
    "\n",
    "You believe that knowing how often each of the areas of the Atlantic are affected by these strong hurricanes is important for making preparations for future hurricanes.\n",
    "\n",
    "Write a function that counts how often each area is listed as an affected area of a hurricane. Store and return the results in a dictionary where the keys are the affected areas and the values are counts of how many times the areas were affected.\n",
    "\n",
    "Test your function on your hurricane dictionary."
   ],
   "cell_type": "markdown",
   "metadata": {}
  },
  {
   "cell_type": "code",
   "execution_count": 143,
   "metadata": {},
   "outputs": [],
   "source": [
    "def count_affectarea(_lhurricane):\n",
    "    country_list = [country for key in _lhurricane.keys() for country in _lhurricane[key].get('Areas Affected')]\n",
    "    affect_area = dict.fromkeys(sorted(set(country_list)))\n",
    "    count = 0\n",
    "\n",
    "    for key in affect_area:\n",
    "        for country in country_list:\n",
    "            if key == country:\n",
    "                count += 1\n",
    "        affect_area[key] = count\n",
    "        count = 0\n",
    "\n",
    "    return affect_area"
   ]
  },
  {
   "cell_type": "code",
   "execution_count": null,
   "metadata": {},
   "outputs": [],
   "source": [
    "count_affectarea(list_hurricane)"
   ]
  },
  {
   "source": [
    "# write your find most affected area function here:\n",
    "Write a function that finds the area affected by the most hurricanes, and how often it was hit.\n"
   ],
   "cell_type": "markdown",
   "metadata": {}
  },
  {
   "cell_type": "code",
   "execution_count": 144,
   "metadata": {},
   "outputs": [],
   "source": [
    "def area_most_hit(_function):\n",
    "    \n",
    "    cntry_hitmost = sorted(_function.items(), key=lambda item: item[1], reverse=True)[0]\n",
    "\n",
    "    print(\"The area affected by the most hurricanes is {country}. It has been hit {hits} times\".format(country=cntry_hitmost[0], hits=cntry_hitmost[1]))"
   ]
  },
  {
   "cell_type": "code",
   "execution_count": null,
   "metadata": {},
   "outputs": [],
   "source": [
    "area_most_hit(count_affectarea(list_hurricane))"
   ]
  },
  {
   "source": [
    "# write your greatest number of deaths function here:\n",
    "\n",
    "Write a function that finds the hurricane that caused the greatest number of deaths, and how many deaths it caused.\n"
   ],
   "cell_type": "markdown",
   "metadata": {}
  },
  {
   "cell_type": "code",
   "execution_count": 145,
   "metadata": {},
   "outputs": [
    {
     "output_type": "stream",
     "name": "stdout",
     "text": [
      "Hurricane Mitch caused the greatest number of deaths (19325).\n"
     ]
    }
   ],
   "source": [
    "\n",
    "def hurricane_deaths(_lhurricane):\n",
    "    deaths = {}\n",
    "    for key in _lhurricane.keys():\n",
    "        deaths[key] = _lhurricane[key].get('Deaths')\n",
    "\n",
    "    hurricane_deaths = sorted(deaths.items(), key=lambda item: item[1], reverse=True)[0]\n",
    "\n",
    "    print(\"Hurricane {hurricane} caused the greatest number of deaths ({deaths}).\".format(hurricane=hurricane_deaths[0], deaths=hurricane_deaths[1]))\n",
    "\n",
    "hurricane_deaths(list_hurricane)"
   ]
  },
  {
   "source": [
    "# write your greatest damage function here:\n",
    "Write a function that rates hurricanes on a mortality scale according to the following ratings, where the key is the rating and the value is the upper bound of deaths for that rating.\n",
    "\n",
    "mortality_scale = {0: 0,\n",
    "                   1: 100,\n",
    "                   2: 500,\n",
    "                   3: 1000,\n",
    "                   4: 10000}\n",
    "For example, a hurricane with a 1 mortality rating would have resulted in greater than 0 but less than or equal to 100 deaths. A hurricane with a 5 mortality rating would have resulted in greater than 10000 deaths.\n",
    "\n",
    "Store the hurricanes in a new dictionary where the keys are mortality ratings and the values are lists containing a dictionary for each hurricane that falls into that mortality rating.\n",
    "\n",
    "Test your function on your hurricane dictionary."
   ],
   "cell_type": "markdown",
   "metadata": {}
  },
  {
   "cell_type": "code",
   "execution_count": 146,
   "metadata": {},
   "outputs": [
    {
     "output_type": "execute_result",
     "data": {
      "text/plain": [
       "{0: [],\n",
       " 1: ['Cuba I',\n",
       "  'Bahamas',\n",
       "  'Carol',\n",
       "  'Carla',\n",
       "  'Edith',\n",
       "  'Anita',\n",
       "  'Andrew',\n",
       "  'Isabel',\n",
       "  'Emily',\n",
       "  'Wilma',\n",
       "  'Dean',\n",
       "  'Michael'],\n",
       " 2: ['CubaBrownsville',\n",
       "  'Tampico',\n",
       "  'Labor Day',\n",
       "  'Hattie',\n",
       "  'Camille',\n",
       "  'Allen',\n",
       "  'Gilbert',\n",
       "  'Hugo',\n",
       "  'Ivan',\n",
       "  'Rita',\n",
       "  'Felix',\n",
       "  'Irma'],\n",
       " 3: ['New England', 'Beulah', 'Matthew'],\n",
       " 4: ['San Felipe II Okeechobee',\n",
       "  'Cuba II',\n",
       "  'Janet',\n",
       "  'David',\n",
       "  'Katrina',\n",
       "  'Maria'],\n",
       " 5: ['Mitch']}"
      ]
     },
     "metadata": {},
     "execution_count": 146
    }
   ],
   "source": [
    "def mortality_scale(_lhurricane):\n",
    "    mort_scale = {0: [], 1: [], 2: [], 3: [], 4: [], 5: []}\n",
    "\n",
    "    for key in _lhurricane.keys():\n",
    "        h_death = _lhurricane[key].get('Deaths')\n",
    "        if h_death <= 0:\n",
    "            mort_scale[0].append(key)\n",
    "        elif h_death > 0 and h_death <= 100:\n",
    "            mort_scale[1].append(key)\n",
    "        elif h_death > 100 and h_death <= 500:\n",
    "            mort_scale[2].append(key)\n",
    "        elif h_death > 500 and h_death <= 1000:\n",
    "            mort_scale[3].append(key)\n",
    "        elif h_death > 1000 and h_death <= 10000:\n",
    "            mort_scale[4].append(key)\n",
    "        elif h_death > 10000:\n",
    "            mort_scale[5].append(key)\n",
    "\n",
    "    return mort_scale\n",
    "\n",
    "mortality_scale(list_hurricane)"
   ]
  },
  {
   "source": [
    "# write your catgeorize by damage function here:\n",
    "\n",
    "Write a function that finds the hurricane that caused the greatest damage, and how costly it was.\n",
    "\n",
    "Test your function on your hurricane dictionary."
   ],
   "cell_type": "markdown",
   "metadata": {}
  },
  {
   "cell_type": "code",
   "execution_count": 162,
   "metadata": {},
   "outputs": [
    {
     "output_type": "error",
     "ename": "TypeError",
     "evalue": "'<' not supported between instances of 'str' and 'float'",
     "traceback": [
      "\u001b[0;31m---------------------------------------------------------------------------\u001b[0m",
      "\u001b[0;31mTypeError\u001b[0m                                 Traceback (most recent call last)",
      "\u001b[0;32m<ipython-input-162-a1c02fd6286b>\u001b[0m in \u001b[0;36m<module>\u001b[0;34m\u001b[0m\n\u001b[1;32m     11\u001b[0m         \u001b[0msort_damages\u001b[0m\u001b[0;34m[\u001b[0m\u001b[0mkey\u001b[0m\u001b[0;34m]\u001b[0m \u001b[0;34m=\u001b[0m \u001b[0mkey_dmg\u001b[0m\u001b[0;34m\u001b[0m\u001b[0;34m\u001b[0m\u001b[0m\n\u001b[1;32m     12\u001b[0m \u001b[0;34m\u001b[0m\u001b[0m\n\u001b[0;32m---> 13\u001b[0;31m \u001b[0msorted\u001b[0m\u001b[0;34m(\u001b[0m\u001b[0msort_damages\u001b[0m\u001b[0;34m.\u001b[0m\u001b[0mitems\u001b[0m\u001b[0;34m(\u001b[0m\u001b[0;34m)\u001b[0m\u001b[0;34m,\u001b[0m \u001b[0mkey\u001b[0m\u001b[0;34m=\u001b[0m\u001b[0;32mlambda\u001b[0m \u001b[0mitem\u001b[0m\u001b[0;34m:\u001b[0m \u001b[0mitem\u001b[0m\u001b[0;34m[\u001b[0m\u001b[0;36m1\u001b[0m\u001b[0;34m]\u001b[0m\u001b[0;34m,\u001b[0m \u001b[0mreverse\u001b[0m\u001b[0;34m=\u001b[0m\u001b[0;32mTrue\u001b[0m\u001b[0;34m)\u001b[0m\u001b[0;34m\u001b[0m\u001b[0;34m\u001b[0m\u001b[0m\n\u001b[0m",
      "\u001b[0;31mTypeError\u001b[0m: '<' not supported between instances of 'str' and 'float'"
     ]
    }
   ],
   "source": [
    "sort_damages = {}\n",
    "\n",
    "for key in list_hurricane.keys():\n",
    "    key_dmg = list_hurricane[key].get('Damage')\n",
    "    \n",
    "    if key_dmg.endswith('M'):\n",
    "        sort_damages[key] = float(key_dmg.strip('M')) * 1000000\n",
    "    elif key_dmg.endswith('B'):\n",
    "        sort_damages[key] = float(key_dmg.strip('B')) * 1000000000\n",
    "    elif \n",
    "    else: \n",
    "        sort_damages[key] = key_dmg\n",
    "\n",
    "sorted(sort_damages.items(), key=lambda item: item[1], reverse=True)"
   ]
  },
  {
   "cell_type": "code",
   "execution_count": 161,
   "metadata": {},
   "outputs": [
    {
     "output_type": "stream",
     "name": "stdout",
     "text": [
      "Damages not recorded\n100000000.0\nDamages not recorded\n40000000.0\n27900000.0\n5000000.0\nDamages not recorded\n306000000.0\n2000000.0\n65800000.0\n326000000.0\n60300000.0\n208000000.0\n1420000.0\n25400000.0\nDamages not recorded\n1540000.0\n1240000.0\n7100000.0\n10000000.0\n26500000.0\n6200000.0\n5370000.0\n23300000.0\n1010000.0\n125000000.0\n12000000.0\n29400000.0\n1760000.0\n720000000.0\n15100000.0\n64800000.0\n91600000.0\n25100000.0\n"
     ]
    }
   ],
   "source": [
    "for x, y in sort_damages.items():\n",
    "    print(y)"
   ]
  }
 ]
}