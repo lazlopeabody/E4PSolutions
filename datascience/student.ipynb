{
 "metadata": {
  "language_info": {
   "codemirror_mode": {
    "name": "ipython",
    "version": 3
   },
   "file_extension": ".py",
   "mimetype": "text/x-python",
   "name": "python",
   "nbconvert_exporter": "python",
   "pygments_lexer": "ipython3",
   "version": "3.8.5"
  },
  "orig_nbformat": 4,
  "kernelspec": {
   "name": "python3",
   "display_name": "Python 3.8.5 64-bit ('juslearn': conda)"
  },
  "interpreter": {
   "hash": "a151ed374657309399594241976f2ab9cb2307b7929a2a67f663721314b940cd"
  }
 },
 "nbformat": 4,
 "nbformat_minor": 2,
 "cells": [
  {
   "cell_type": "code",
   "execution_count": 2,
   "metadata": {},
   "outputs": [],
   "source": [
    "class Student():\n",
    "  \n",
    "    def __init__(self, name, year):\n",
    "        self.name = name\n",
    "        self.year = year\n",
    "        self.grades = []\n",
    "    \n",
    "    def add_grade(self, grade):\n",
    "        if type(grade) is Grade:\n",
    "        self.grades.append(grade)\n",
    "    \n",
    "    def get_average(self, grades):\n",
    "        \n"
   ]
  },
  {
   "cell_type": "code",
   "execution_count": 54,
   "metadata": {},
   "outputs": [],
   "source": [
    "class Grade():\n",
    "  minimum_passing = 65\n",
    "\n",
    "  def __init__(self, score):\n",
    "    self.score = score\n",
    "\n",
    "  def is_passing(self):\n",
    "    if self.score < Grade.minimum_passing:\n",
    "      return self.score\n",
    "    else:\n",
    "      return False"
   ]
  },
  {
   "cell_type": "code",
   "execution_count": 34,
   "metadata": {},
   "outputs": [],
   "source": [
    "roger = Student(\"Roger van der Weyden\", 10)\n",
    "sandro = Student(\"Sandro Botticelli\", 12)\n",
    "pieter = Student(\"Pieter Bruegel the Elder\", 8)\n",
    "\n",
    "\n",
    "pieter.add_grade(Grade(100))"
   ]
  },
  {
   "cell_type": "code",
   "execution_count": 52,
   "metadata": {},
   "outputs": [
    {
     "output_type": "stream",
     "name": "stdout",
     "text": [
      "<__main__.Student object at 0x7fcac319e610>\n"
     ]
    }
   ],
   "source": []
  }
 ]
}