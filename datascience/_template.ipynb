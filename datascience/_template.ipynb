{
 "metadata": {
  "language_info": {
   "codemirror_mode": {
    "name": "ipython",
    "version": 3
   },
   "file_extension": ".py",
   "mimetype": "text/x-python",
   "name": "python",
   "nbconvert_exporter": "python",
   "pygments_lexer": "ipython3",
   "version": "3.8.5"
  },
  "orig_nbformat": 2,
  "kernelspec": {
   "name": "python385jvsc74a57bd0a151ed374657309399594241976f2ab9cb2307b7929a2a67f663721314b940cd",
   "display_name": "Python 3.8.5 64-bit ('juslearn': conda)"
  },
  "metadata": {
   "interpreter": {
    "hash": "a151ed374657309399594241976f2ab9cb2307b7929a2a67f663721314b940cd"
   }
  }
 },
 "nbformat": 4,
 "nbformat_minor": 2,
 "cells": [
  {
   "cell_type": "code",
   "execution_count": null,
   "metadata": {},
   "outputs": [],
   "source": [
    "\"\"\"COME UP WITH A QUESTION\n",
    "    - what is the goal\n",
    "    - what would i do if I had all the data\n",
    "    - what do I want to predict or estimate\n",
    "\"\"\""
   ]
  },
  {
   "cell_type": "code",
   "execution_count": null,
   "metadata": {},
   "outputs": [],
   "source": [
    "\"\"\"DETERMINE THE NECESSARY DATA\n",
    "    - what is the sample size needed\n",
    "    - what data to i need to prove or refute hypothesis\n",
    "\"\"\""
   ]
  },
  {
   "cell_type": "code",
   "execution_count": null,
   "metadata": {},
   "outputs": [],
   "source": [
    "\"\"\"GET DATA\n",
    "    - how were data sampled\n",
    "    - which data is relevant\n",
    "    - are there issues with data (i.e. privacy)\n",
    "\"\"\""
   ]
  },
  {
   "cell_type": "code",
   "execution_count": null,
   "metadata": {},
   "outputs": [],
   "source": [
    "\"\"\"CLEAN DATA\n",
    "    - is the data readable\n",
    "    - get rid of unecessary data\n",
    "    - transform tabular data\n",
    "\"\"\""
   ]
  },
  {
   "cell_type": "code",
   "execution_count": null,
   "metadata": {},
   "outputs": [],
   "source": [
    "\"\"\"EXPLORE THE DATA\n",
    "    - plot the data\n",
    "    - are the anamolies\n",
    "    - are there patterns\n",
    "\"\"\""
   ]
  },
  {
   "cell_type": "code",
   "execution_count": null,
   "metadata": {},
   "outputs": [],
   "source": [
    "\"\"\"MODEL THE DATA\n",
    "    - build a model\n",
    "    - fit the model\n",
    "    - validate the model\n",
    "\"\"\""
   ]
  },
  {
   "cell_type": "code",
   "execution_count": null,
   "metadata": {},
   "outputs": [],
   "source": [
    "\"\"\"COMMUNICATE DATA\n",
    "    - what did u learn\n",
    "    - do u results make sense\n",
    "    - can u tell the story\n",
    "    - did we answer our question\n",
    "\"\"\""
   ]
  },
  {
   "cell_type": "code",
   "execution_count": 1,
   "metadata": {},
   "outputs": [
    {
     "output_type": "execute_result",
     "data": {
      "text/plain": [
       "'IS IT REPEATABLE & IS THERE IS AN APPLICATION FOR ...\\n    - can u provide a simple, clear, and engage report/presentation\\n    - is there a recommender engines/system \\n    - can u apply dynamic pricing\\n    - can i apply or utilzie what i have learned for Natural Langauge Processing (NLP) application\\n'"
      ]
     },
     "metadata": {},
     "execution_count": 1
    }
   ],
   "source": [
    "\"\"\"IS IT REPEATABLE & IS THERE IS AN APPLICATION FOR ...\n",
    "    - can u provide a simple, clear, and engage report/presentation\n",
    "    - is there a recommender engines/system \n",
    "    - can u apply dynamic pricing\n",
    "    - can i apply or utilzie what i have learned for Natural Langauge Processing (NLP) application\n",
    "\"\"\""
   ]
  }
 ]
}