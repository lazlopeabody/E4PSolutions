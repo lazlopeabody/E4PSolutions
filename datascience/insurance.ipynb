{
 "metadata": {
  "language_info": {
   "codemirror_mode": {
    "name": "ipython",
    "version": 3
   },
   "file_extension": ".py",
   "mimetype": "text/x-python",
   "name": "python",
   "nbconvert_exporter": "python",
   "pygments_lexer": "ipython3",
   "version": "3.9.2"
  },
  "orig_nbformat": 2,
  "kernelspec": {
   "name": "python392jvsc74a57bd0abf13ae1d071f1b7b5b1f8ca41d63993462f0bbe9f7d4ec8dd1dbc21ceb47404",
   "display_name": "Python 3.9.2 64-bit ('kaggle': conda)"
  }
 },
 "nbformat": 4,
 "nbformat_minor": 2,
 "cells": [
  {
   "cell_type": "code",
   "execution_count": null,
   "metadata": {},
   "outputs": [],
   "source": [
    "import numpy as np \n",
    "import matplotlib.pyplot as plt\n",
    "import seaborn as sns\n",
    "import pyinputplus as pyip"
   ]
  },
  {
   "cell_type": "code",
   "execution_count": null,
   "metadata": {},
   "outputs": [],
   "source": [
    "def analyze_smoker(smoker_status):\n",
    "    if smoker_status == 1:\n",
    "        print(\"To lower your cost, you should consider quitting smoking.\")\n",
    "    else:\n",
    "        print(\"Smoking is not an issue for you.\")\n",
    "    \n",
    "def analyze_bmi(bmi_value):\n",
    "    if bmi_value > 30:\n",
    "        print(\"Your BMI is in the obese range. To lower your cost, you should significantly lower your BMI by approx \" + str(bmi_value - 19) + \"%.\")\n",
    "    elif bmi_value >= 25 and bmi_value <= 30:\n",
    "        print(\"Your BMI is in the overwieght range. To lower your cost, you should lower your BMI by approx \" + str(bmi_value - 19) + \"%.\")\n",
    "    elif bmi_value >= 18.5 and bmi_value < 25:\n",
    "        print(\"Your BMI is in a healthy range\")\n",
    "    elif bmi_value < 18.5:\n",
    "        print(\"Your BMI is in the underweight range. Increasing your BMI will not help lower your cost, but will help improve your health.\")\n",
    "\n",
    "\n",
    "def calculate_insurance_cost(_age, _sex, _bmi, _numchild, _smoker, _name=\"none\"):\n",
    "\n",
    "    estimated_cost = 250*_age - 128*_sex + 370*_bmi + 425*_numchild + 24000*_smoker - 12500\n",
    "    #print(\"The estimated insurance cost for \" + _name + \" is \" + str(estimated_cost) + \" dollars.\")\n",
    "    #analyze_smoker(_smoker)\n",
    "    #analyze_bmi(_bmi)\n",
    "    return estimated_cost\n",
    "\n",
    "def insurance_dif(_insurance_cost1, _insurance_cost2):\n",
    "    cost_dif = _insurance_cost1 - _insurance_cost2\n",
    "    #print(\"The Insurance Cost difference between \" + _name1 + \" and \" + _name2 + \" is \" + str(cost_dif))\n",
    "    return cost_dif\n"
   ]
  },
  {
   "cell_type": "code",
   "execution_count": null,
   "metadata": {},
   "outputs": [],
   "source": [
    "#my_insurance_cost = calculate_insurance_cost(41, 1, 19, 2, 0, \"Tony\")\n",
    "#maria_insurance_cost = calculate_insurance_cost(31, 0, 23.1, 1, 0, \"Maria\")\n",
    "#rohan_insurance_cost = calculate_insurance_cost(25, 1, 28.5, 3, 0, \"Rohan\")\n",
    "#valentina_insurance_cost = calculate_insurance_cost(53, 0, 31.4, 0, 1, \"Valentina\")"
   ]
  },
  {
   "cell_type": "code",
   "execution_count": null,
   "metadata": {},
   "outputs": [],
   "source": [
    "# lists\n",
    "names = [\"Tony\", \"Maria\", \"Rohan\", \"Valentina\"]\n",
    "names_data = [[41, 1, 19, 2, 0], [31, 0, 23.1, 1, 0], [25, 1, 28.5, 3, 0], [53, 0, 31.4, 0, 1]]\n",
    "insurance_cost = [5000, 4150.0, 5320.0, 35210.0]\n",
    "\n",
    "# combine lists\n",
    "insurance_data = list(zip(names, names_data, insurance_cost))\n",
    "#print(insurance_data[0][2])"
   ]
  },
  {
   "cell_type": "code",
   "execution_count": null,
   "metadata": {},
   "outputs": [],
   "source": [
    "est_insurance_data = []\n",
    "\n",
    "def build_est_insur_data():\n",
    "    for x in range(len(names)):\n",
    "        est_insurance_data.append(\n",
    "                ( names[x], calculate_insurance_cost(insurance_data[x][1][0], insurance_data[x][1][1], insurance_data[x][1][2], insurance_data[x][1][3], insurance_data[x][1][4] ) ) )\n",
    "\n",
    "build_est_insur_data()\n",
    "\n",
    "#print(est_insurance_data)"
   ]
  },
  {
   "cell_type": "code",
   "execution_count": null,
   "metadata": {},
   "outputs": [],
   "source": [
    "dif_insurance_costs = []\n",
    "\n",
    "def calculate_insur_dif():\n",
    "    for x in range(len(names)):\n",
    "        name = names[x]\n",
    "        dif_insurance_costs.append(\n",
    "            ( insurance_dif(est_insurance_data[x][1], insurance_data[x][2]) ) )\n",
    "\n",
    "calculate_insur_dif()\n",
    "#print(dif_insurance_costs)"
   ]
  },
  {
   "cell_type": "code",
   "execution_count": null,
   "metadata": {},
   "outputs": [],
   "source": [
    "print(str(est_insurance_data) + \"\\n\")\n",
    "print(str(dif_insurance_costs) + \"\\n\")\n",
    "\n",
    "insurance_list = list(zip(est_insurance_data, dif_insurance_costs))\n",
    "print(str(insurance_list[0][0][0]) + \"'s Estimated Insurance Cost is \" + str(insurance_list[0][0][1]) + \". The cost differnce is : \" + str(insurance_list[0][1]))\n"
   ]
  },
  {
   "cell_type": "code",
   "execution_count": null,
   "metadata": {
    "tags": []
   },
   "outputs": [],
   "source": [
    "#names.append('Tony')\n",
    "print(names)\n",
    "#list(set(names))"
   ]
  },
  {
   "cell_type": "code",
   "execution_count": 87,
   "metadata": {
    "tags": []
   },
   "outputs": [
    {
     "output_type": "error",
     "ename": "SyntaxError",
     "evalue": "invalid syntax (<ipython-input-87-efd72bd3289a>, line 14)",
     "traceback": [
      "\u001b[0;36m  File \u001b[0;32m\"<ipython-input-87-efd72bd3289a>\"\u001b[0;36m, line \u001b[0;32m14\u001b[0m\n\u001b[0;31m    if response = \"no\"\u001b[0m\n\u001b[0m                ^\u001b[0m\n\u001b[0;31mSyntaxError\u001b[0m\u001b[0;31m:\u001b[0m invalid syntax\n"
     ]
    }
   ],
   "source": [
    "names = [i for n, i in enumerate(names) if i not in names[:n]]\n",
    "print(names)\n",
    "\n",
    "def prevent_duplicate():\n",
    "    while True:\n",
    "        _name = input(\"PLEASE Enter Name\")\n",
    "        for n, i in enumerate(names):\n",
    "            if _name == i:\n",
    "                print(\"Found duplicate @ Index --> \" + str(n) + \" \" + i + \" Try again:\")\n",
    "                names.append(input(\"Please Enter Name\"))\n",
    "            elif _name != i:\n",
    "                print(names)\n",
    "                response = pyip.inputYesNo(prompt='Do you want to enter another name? y or n\\n')\n",
    "                if response == \"no\"\n",
    "                    break\n",
    "prevent_duplicate()"
   ]
  },
  {
   "cell_type": "code",
   "execution_count": null,
   "metadata": {},
   "outputs": [],
   "source": [
    "print(names)"
   ]
  },
  {
   "cell_type": "code",
   "execution_count": 83,
   "metadata": {},
   "outputs": [
    {
     "output_type": "stream",
     "text": [
      "\u001b[0;31mSignature:\u001b[0m\n",
      "\u001b[0mpyip\u001b[0m\u001b[0;34m.\u001b[0m\u001b[0minputYesNo\u001b[0m\u001b[0;34m(\u001b[0m\u001b[0;34m\u001b[0m\n",
      "\u001b[0;34m\u001b[0m    \u001b[0mprompt\u001b[0m\u001b[0;34m=\u001b[0m\u001b[0;34m''\u001b[0m\u001b[0;34m,\u001b[0m\u001b[0;34m\u001b[0m\n",
      "\u001b[0;34m\u001b[0m    \u001b[0myesVal\u001b[0m\u001b[0;34m=\u001b[0m\u001b[0;34m'yes'\u001b[0m\u001b[0;34m,\u001b[0m\u001b[0;34m\u001b[0m\n",
      "\u001b[0;34m\u001b[0m    \u001b[0mnoVal\u001b[0m\u001b[0;34m=\u001b[0m\u001b[0;34m'no'\u001b[0m\u001b[0;34m,\u001b[0m\u001b[0;34m\u001b[0m\n",
      "\u001b[0;34m\u001b[0m    \u001b[0mcaseSensitive\u001b[0m\u001b[0;34m=\u001b[0m\u001b[0;32mFalse\u001b[0m\u001b[0;34m,\u001b[0m\u001b[0;34m\u001b[0m\n",
      "\u001b[0;34m\u001b[0m    \u001b[0mdefault\u001b[0m\u001b[0;34m=\u001b[0m\u001b[0;32mNone\u001b[0m\u001b[0;34m,\u001b[0m\u001b[0;34m\u001b[0m\n",
      "\u001b[0;34m\u001b[0m    \u001b[0mblank\u001b[0m\u001b[0;34m=\u001b[0m\u001b[0;32mFalse\u001b[0m\u001b[0;34m,\u001b[0m\u001b[0;34m\u001b[0m\n",
      "\u001b[0;34m\u001b[0m    \u001b[0mtimeout\u001b[0m\u001b[0;34m=\u001b[0m\u001b[0;32mNone\u001b[0m\u001b[0;34m,\u001b[0m\u001b[0;34m\u001b[0m\n",
      "\u001b[0;34m\u001b[0m    \u001b[0mlimit\u001b[0m\u001b[0;34m=\u001b[0m\u001b[0;32mNone\u001b[0m\u001b[0;34m,\u001b[0m\u001b[0;34m\u001b[0m\n",
      "\u001b[0;34m\u001b[0m    \u001b[0mstrip\u001b[0m\u001b[0;34m=\u001b[0m\u001b[0;32mNone\u001b[0m\u001b[0;34m,\u001b[0m\u001b[0;34m\u001b[0m\n",
      "\u001b[0;34m\u001b[0m    \u001b[0mallowRegexes\u001b[0m\u001b[0;34m=\u001b[0m\u001b[0;32mNone\u001b[0m\u001b[0;34m,\u001b[0m\u001b[0;34m\u001b[0m\n",
      "\u001b[0;34m\u001b[0m    \u001b[0mblockRegexes\u001b[0m\u001b[0;34m=\u001b[0m\u001b[0;32mNone\u001b[0m\u001b[0;34m,\u001b[0m\u001b[0;34m\u001b[0m\n",
      "\u001b[0;34m\u001b[0m    \u001b[0mapplyFunc\u001b[0m\u001b[0;34m=\u001b[0m\u001b[0;32mNone\u001b[0m\u001b[0;34m,\u001b[0m\u001b[0;34m\u001b[0m\n",
      "\u001b[0;34m\u001b[0m    \u001b[0mpostValidateApplyFunc\u001b[0m\u001b[0;34m=\u001b[0m\u001b[0;32mNone\u001b[0m\u001b[0;34m,\u001b[0m\u001b[0;34m\u001b[0m\n",
      "\u001b[0;34m\u001b[0m\u001b[0;34m)\u001b[0m\u001b[0;34m\u001b[0m\u001b[0;34m\u001b[0m\u001b[0m\n",
      "\u001b[0;31mDocstring:\u001b[0m\n",
      "Prompts the user to enter a yes/no response.\n",
      "The user can also enter y/n and use any case.\n",
      "Returns the ``yesVal`` or ``noVal`` argument (which default to ``'yes'`` and ``'no'``), depending on the user's selection.\n",
      "\n",
      "Run ``help(pyinputplus.parameters)`` for an explanation of the common parameters.\n",
      "\n",
      ">>> import pyinputplus as pyip\n",
      ">>> response = pyip.inputYesNo()\n",
      "yes\n",
      ">>> response\n",
      "'yes'\n",
      ">>> response = pyip.inputYesNo()\n",
      "NO\n",
      ">>> response\n",
      "'no'\n",
      ">>> response = pyip.inputYesNo()\n",
      "Y\n",
      ">>> response\n",
      "'yes'\n",
      ">>> response = pyip.inputYesNo(yesVal='oui', noVal='no')\n",
      "oui\n",
      ">>> response\n",
      "'oui'\n",
      "\u001b[0;31mFile:\u001b[0m      ~/.local/lib/python3.9/site-packages/pyinputplus/__init__.py\n",
      "\u001b[0;31mType:\u001b[0m      function\n"
     ],
     "name": "stdout"
    }
   ],
   "source": [
    "pyip.inputYesNo?"
   ]
  }
 ]
}