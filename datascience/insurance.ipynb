{
 "metadata": {
  "language_info": {
   "codemirror_mode": {
    "name": "ipython",
    "version": 3
   },
   "file_extension": ".py",
   "mimetype": "text/x-python",
   "name": "python",
   "nbconvert_exporter": "python",
   "pygments_lexer": "ipython3",
   "version": "3.8.5"
  },
  "orig_nbformat": 2,
  "kernelspec": {
   "name": "python385jvsc74a57bd0a151ed374657309399594241976f2ab9cb2307b7929a2a67f663721314b940cd",
   "display_name": "Python 3.8.5 64-bit ('juslearn': conda)",
   "language": "python"
  }
 },
 "nbformat": 4,
 "nbformat_minor": 2,
 "cells": [
  {
   "cell_type": "code",
   "execution_count": 1,
   "metadata": {},
   "outputs": [],
   "source": [
    "import numpy as np \n",
    "import matplotlib.pyplot as plt\n",
    "import seaborn as sns"
   ]
  },
  {
   "cell_type": "code",
   "execution_count": 2,
   "metadata": {},
   "outputs": [],
   "source": [
    "def analyze_smoker(smoker_status):\n",
    "    if smoker_status == 1:\n",
    "        print(\"To lower your cost, you should consider quitting smoking.\")\n",
    "    else:\n",
    "        print(\"Smoking is not an issue for you.\")\n",
    "    \n",
    "def analyze_bmi(bmi_value):\n",
    "    if bmi_value > 30:\n",
    "        print(\"Your BMI is in the obese range. To lower your cost, you should significantly lower your BMI by approx \" + str(bmi_value - 19) + \"%.\")\n",
    "    elif bmi_value >= 25 and bmi_value <= 30:\n",
    "        print(\"Your BMI is in the overwieght range. To lower your cost, you should lower your BMI by approx \" + str(bmi_value - 19) + \"%.\")\n",
    "    elif bmi_value >= 18.5 and bmi_value < 25:\n",
    "        print(\"Your BMI is in a healthy range\")\n",
    "    elif bmi_value < 18.5:\n",
    "        print(\"Your BMI is in the underweight range. Increasing your BMI will not help lower your cost, but will help improve your health.\")\n",
    "\n",
    "\n",
    "def calculate_insurance_cost(_age, _sex, _bmi, _numchild, _smoker, _name=\"none\"):\n",
    "\n",
    "    estimated_cost = 250*_age - 128*_sex + 370*_bmi + 425*_numchild + 24000*_smoker - 12500\n",
    "    #print(\"The estimated insurance cost for \" + _name + \" is \" + str(estimated_cost) + \" dollars.\")\n",
    "    #analyze_smoker(_smoker)\n",
    "    #analyze_bmi(_bmi)\n",
    "    return estimated_cost\n",
    "\n",
    "def insurance_dif(_insurance_cost1, _insurance_cost2):\n",
    "    cost_dif = _insurance_cost1 - _insurance_cost2\n",
    "    #print(\"The Insurance Cost difference between \" + _name1 + \" and \" + _name2 + \" is \" + str(cost_dif))\n",
    "    return cost_dif\n"
   ]
  },
  {
   "cell_type": "code",
   "execution_count": null,
   "metadata": {},
   "outputs": [],
   "source": [
    "#my_insurance_cost = calculate_insurance_cost(41, 1, 19, 2, 0, \"Tony\")\n",
    "#maria_insurance_cost = calculate_insurance_cost(31, 0, 23.1, 1, 0, \"Maria\")\n",
    "#rohan_insurance_cost = calculate_insurance_cost(25, 1, 28.5, 3, 0, \"Rohan\")\n",
    "#valentina_insurance_cost = calculate_insurance_cost(53, 0, 31.4, 0, 1, \"Valentina\")"
   ]
  },
  {
   "cell_type": "code",
   "execution_count": 36,
   "metadata": {},
   "outputs": [
    {
     "output_type": "stream",
     "name": "stdout",
     "text": [
      "5000\n"
     ]
    }
   ],
   "source": [
    "# lists\n",
    "names = [\"Tony\", \"Maria\", \"Rohan\", \"Valentina\"]\n",
    "names_data = [[41, 1, 19, 2, 0], [31, 0, 23.1, 1, 0], [25, 1, 28.5, 3, 0], [53, 0, 31.4, 0, 1]]\n",
    "insurance_cost = [5000, 4150.0, 5320.0, 35210.0]\n",
    "\n",
    "# combine lists\n",
    "insurance_data = list(zip(names, names_data, insurance_cost))\n",
    "print(insurance_data[0][2])"
   ]
  },
  {
   "cell_type": "code",
   "execution_count": 4,
   "metadata": {},
   "outputs": [
    {
     "output_type": "stream",
     "name": "stdout",
     "text": [
      "[('Tony', 5502), ('Maria', 4222.0), ('Rohan', 5442.0), ('Valentina', 36368.0)]\n"
     ]
    }
   ],
   "source": [
    "est_insurance_data = []\n",
    "\n",
    "def build_est_insur_data():\n",
    "    for x in range(len(names)):\n",
    "        est_insurance_data.append(\n",
    "                ( names[x], calculate_insurance_cost(insurance_data[x][1][0], insurance_data[x][1][1], insurance_data[x][1][2], insurance_data[x][1][3], insurance_data[x][1][4] ) ) )\n",
    "\n",
    "build_est_insur_data()\n",
    "\n",
    "print(est_insurance_data)"
   ]
  },
  {
   "cell_type": "code",
   "execution_count": 6,
   "metadata": {},
   "outputs": [
    {
     "output_type": "stream",
     "name": "stdout",
     "text": [
      "[502, 72.0, 122.0, 1158.0]\n"
     ]
    }
   ],
   "source": [
    "dif_insurance_costs = []\n",
    "\n",
    "def calculate_insur_dif():\n",
    "    for x in range(len(names)):\n",
    "        name = names[x]\n",
    "        dif_insurance_costs.append(\n",
    "            ( insurance_dif(est_insurance_data[x][1], insurance_data[x][2]) ) )\n",
    "\n",
    "calculate_insur_dif()\n",
    "print(dif_insurance_costs)"
   ]
  },
  {
   "cell_type": "code",
   "execution_count": 7,
   "metadata": {},
   "outputs": [
    {
     "output_type": "stream",
     "name": "stdout",
     "text": [
      "[('Tony', 5502), ('Maria', 4222.0), ('Rohan', 5442.0), ('Valentina', 36368.0)]\n\n[502, 72.0, 122.0, 1158.0]\n\nTony's Estimated Insurance Cost is 5502. The cost differnce is : 502\n"
     ]
    }
   ],
   "source": [
    "print(str(est_insurance_data) + \"\\n\")\n",
    "print(str(dif_insurance_costs) + \"\\n\")\n",
    "\n",
    "insurance_list = list(zip(est_insurance_data, dif_insurance_costs))\n",
    "print(str(insurance_list[0][0][0]) + \"'s Estimated Insurance Cost is \" + str(insurance_list[0][0][1]) + \". The cost differnce is : \" + str(insurance_list[0][1]))\n"
   ]
  },
  {
   "cell_type": "code",
   "execution_count": 11,
   "metadata": {},
   "outputs": [],
   "source": [
    "def add_new_name():\n",
    "    n = len(names) - 1\n",
    "    print(n)\n",
    "\n",
    "    print(\"Please enter the new data.\")\n",
    "    name = input(\"Please enter the new name: \")\n",
    "    for n, i \n",
    "        \n",
    "\n",
    "    #print(names)\n",
    "\n",
    "#add_new_name()"
   ]
  },
  {
   "cell_type": "code",
   "execution_count": 51,
   "metadata": {
    "tags": [
     "outputPrepend"
    ]
   },
   "outputs": [
    {
     "output_type": "stream",
     "name": "stdout",
     "text": [
      "'Tony', 'Tony', 'Tony', 'Tony', 'Tony', 'Tony', 'Tony', 'Tony', 'Tony', 'Tony', 'Tony', 'Tony', 'Tony', 'Tony', 'Tony', 'Tony', 'Tony', 'Tony', 'Tony', 'Tony', 'Tony', 'Tony', 'Tony', 'Tony', 'Tony', 'Tony', 'Tony', 'Tony', 'Tony', 'Tony', 'Tony', 'Tony', 'Tony', 'Tony', 'Tony', 'Tony', 'Tony', 'Tony', 'Tony', 'Tony', 'Tony', 'Tony', 'Tony', 'Tony', 'Tony', 'Tony', 'Tony', 'Tony', 'Tony', 'Tony', 'Tony', 'Tony', 'Tony', 'Tony', 'Tony', 'Tony', 'Tony', 'Tony', 'Tony', 'Tony', 'Tony', 'Tony', 'Tony', 'Tony', 'Tony', 'Tony', 'Tony', 'Tony', 'Tony', 'Tony', 'Tony', 'Tony', 'Tony', 'Tony', 'Tony', 'Tony', 'Tony', 'Tony', 'Tony', 'Tony', 'Tony', 'Tony', 'Tony', 'Tony', 'Tony', 'Tony', 'Tony', 'Tony', 'Tony', 'Tony', 'Tony', 'Tony', 'Tony', 'Tony', 'Tony', 'Tony', 'Tony', 'Tony', 'Tony', 'Tony', 'Tony', 'Tony', 'Tony', 'Tony', 'Tony', 'Tony', 'Tony', 'Tony', 'Tony', 'Tony', 'Tony', 'Tony', 'Tony', 'Tony', 'Tony', 'Tony', 'Tony', 'Tony', 'Tony', 'Tony', 'Tony', 'Tony', 'Tony', 'Tony', 'Tony', 'Tony', 'Tony', 'Tony', 'Tony', 'Tony', 'Tony', 'Tony', 'Tony', 'Tony', 'Tony', 'Tony', 'Tony', 'Tony', 'Tony', 'Tony', 'Tony', 'Tony', 'Tony', 'Tony', 'Tony', 'Tony', 'Tony', 'Tony', 'Tony', 'Tony', 'Tony', 'Tony', 'Tony', 'Tony', 'Tony', 'Tony', 'Tony', 'Tony', 'Tony', 'Tony', 'Tony', 'Tony', 'Tony', 'Tony', 'Tony', 'Tony', 'Tony', 'Tony', 'Tony', 'Tony', 'Tony', 'Tony', 'Tony', 'Tony', 'Tony', 'Tony', 'Tony', 'Tony', 'Tony', 'Tony', 'Tony', 'Tony', 'Tony', 'Tony', 'Tony', 'Tony', 'Tony', 'Tony', 'Tony', 'Tony', 'Tony', 'Tony', 'Tony', 'Tony', 'Tony', 'Tony', 'Tony', 'Tony', 'Tony', 'Tony', 'Tony', 'Tony', 'Tony', 'Tony', 'Tony', 'Tony', 'Tony', 'Tony', 'Tony', 'Tony', 'Tony', 'Tony', 'Tony', 'Tony', 'Tony', 'Tony', 'Tony', 'Tony', 'Tony', 'Tony', 'Tony', 'Tony', 'Tony', 'Tony', 'Tony', 'Tony', 'Tony', 'Tony', 'Tony', 'Tony', 'Tony', 'Tony', 'Tony', 'Tony', 'Tony', 'Tony', 'Tony', 'Tony', 'Tony', 'Tony', 'Tony', 'Tony', 'Tony', 'Tony', 'Tony', 'Tony', 'Tony', 'Tony', 'Tony', 'Tony', 'Tony', 'Tony', 'Tony', 'Tony', 'Tony', 'Tony', 'Tony', 'Tony', 'Tony', 'Tony', 'Tony', 'Tony', 'Tony', 'Tony', 'Tony', 'Tony', 'Tony', 'Tony', 'Tony', 'Tony', 'Tony', 'Tony', 'Tony', 'Tony', 'Tony', 'Tony', 'Tony', 'Tony', 'Tony', 'Tony', 'Tony', 'Tony', 'Tony', 'Tony', 'Tony', 'Tony', 'Tony', 'Tony', 'Tony', 'Tony', 'Tony', 'Tony', 'Tony', 'Tony', 'Tony', 'Tony', 'Tony', 'Tony', 'Tony', 'Tony', 'Tony', 'Tony', 'Tony', 'Tony', 'Tony', 'Tony', 'Tony', 'Tony', 'Tony', 'Tony', 'Tony', 'Tony', 'Tony', 'Tony', 'Tony', 'Tony', 'Tony', 'Tony', 'Tony', 'Tony', 'Tony', 'Tony', 'Tony', 'Tony', 'Tony', 'Tony', 'Tony', 'Tony', 'Tony', 'Tony', 'Tony', 'Tony', 'Tony', 'Tony', 'Tony', 'Tony', 'Tony', 'Tony', 'Tony', 'Tony', 'Tony', 'Tony', 'Tony', 'Tony', 'Tony', 'Tony', 'Tony', 'Tony', 'Tony', 'Tony', 'Tony', 'Tony', 'Tony', 'Tony', 'Tony', 'Tony', 'Tony', 'Tony', 'Tony', 'Tony', 'Tony', 'Tony', 'Tony', 'Tony', 'Tony', 'Tony', 'Tony', 'Tony', 'Tony', 'Tony', 'Tony', 'Tony', 'Tony', 'Tony', 'Tony', 'Tony', 'Tony', 'Tony', 'Tony', 'Tony', 'Tony', 'Tony', 'Tony', 'Tony', 'Tony', 'Tony', 'Tony', 'Tony', 'Tony', 'Tony', 'Tony', 'Tony', 'Tony', 'Tony', 'Tony', 'Tony', 'Tony', 'Tony', 'Tony', 'Tony', 'Tony', 'Tony', 'Tony', 'Tony', 'Tony', 'Tony', 'Tony', 'Tony', 'Tony', 'Tony', 'Tony', 'Tony', 'Tony', 'Tony', 'Tony', 'Tony', 'Tony', 'Tony', 'Tony', 'Tony', 'Tony', 'Tony', 'Tony', 'Tony', 'Tony', 'Tony', 'Tony', 'Tony', 'Tony', 'Tony', 'Tony', 'Tony', 'Tony', 'Tony', 'Tony', 'Tony', 'Tony', 'Tony', 'Tony', 'Tony', 'Tony', 'Tony', 'Tony', 'Tony', 'Tony', 'Tony', 'Tony', 'Tony', 'Tony', 'Tony', 'Tony', 'Tony', 'Tony', 'Tony', 'Tony', 'Tony', 'Tony', 'Tony', 'Tony', 'Tony', 'Tony', 'Tony', 'Tony', 'Tony', 'Tony', 'Tony', 'Tony', 'Tony', 'Tony', 'Tony', 'Tony', 'Tony', 'Tony', 'Tony', 'Tony', 'Tony', 'Tony', 'Tony', 'Tony', 'Tony', 'Tony', 'Tony', 'Tony', 'Tony', 'Tony', 'Tony', 'Tony', 'Tony', 'Tony', 'Tony', 'Tony', 'Tony', 'Tony', 'Tony', 'Tony', 'Tony', 'Tony', 'Tony', 'Tony', 'Tony', 'Tony', 'Tony', 'Tony', 'Tony', 'Tony', 'Tony', 'Tony', 'Tony', 'Tony', 'Tony', 'Tony', 'Tony', 'Tony', 'Tony', 'Tony', 'Tony', 'Tony', 'Tony', 'Tony', 'Tony', 'Tony', 'Tony', 'Tony', 'Tony', 'Tony', 'Tony', 'Tony', 'Tony', 'Tony', 'Tony', 'Tony', 'Tony', 'Tony', 'Tony', 'Tony', 'Tony', 'Tony', 'Tony', 'Tony', 'Tony', 'Tony', 'Tony', 'Tony', 'Tony', 'Tony', 'Tony', 'Tony', 'Tony', 'Tony', 'Tony', 'Tony', 'Tony', 'Tony', 'Tony', 'Tony', 'Tony', 'Tony', 'Tony', 'Tony', 'Tony', 'Tony', 'Tony', 'Tony', 'Tony', 'Tony', 'Tony', 'Tony', 'Tony', 'Tony', 'Tony', 'Tony', 'Tony', 'Tony', 'Tony', 'Tony', 'Tony', 'Tony', 'Tony', 'Tony', 'Tony', 'Tony', 'Tony', 'Tony', 'Tony', 'Tony', 'Tony', 'Tony', 'Tony', 'Tony', 'Tony', 'Tony', 'Tony', 'Tony', 'Tony', 'Tony', 'Tony', 'Tony', 'Tony', 'Tony', 'Tony', 'Tony', 'Tony', 'Tony', 'Tony', 'Tony', 'Tony', 'Tony', 'Tony', 'Tony', 'Tony', 'Tony', 'Tony', 'Tony', 'Tony', 'Tony', 'Tony', 'Tony', 'Tony', 'Tony', 'Tony', 'Tony', 'Tony', 'Tony', 'Tony', 'Tony', 'Tony', 'Tony', 'Tony', 'Tony', 'Tony', 'Tony', 'Tony', 'Tony', 'Tony', 'Tony', 'Tony', 'Tony', 'Tony', 'Tony', 'Tony', 'Tony', 'Tony', 'Tony', 'Tony', 'Tony', 'Tony', 'Tony', 'Tony', 'Tony', 'Tony', 'Tony', 'Tony', 'Tony', 'Tony', 'Tony', 'Tony', 'Tony', 'Tony', 'Tony', 'Tony', 'Tony', 'Tony', 'Tony', 'Tony', 'Tony', 'Tony', 'Tony', 'Tony', 'Tony', 'Tony', 'Tony', 'Tony', 'Tony', 'Tony', 'Tony', 'Tony', 'Tony', 'Tony', 'Tony', 'Tony', 'Tony', 'Tony', 'Tony', 'Tony', 'Tony', 'Tony', 'Tony', 'Tony', 'Tony', 'Tony', 'Tony', 'Tony', 'Tony', 'Tony', 'Tony', 'Tony', 'Tony', 'Tony', 'Tony', 'Tony', 'Tony', 'Tony', 'Tony', 'Tony', 'Tony', 'Tony', 'Tony', 'Tony', 'Tony', 'Tony', 'Tony', 'Tony', 'Tony', 'Tony', 'Tony', 'Tony', 'Tony', 'Tony', 'Tony', 'Tony', 'Tony', 'Tony', 'Tony', 'Tony', 'Tony', 'Tony', 'Tony', 'Tony', 'Tony', 'Tony', 'Tony', 'Tony', 'Tony', 'Tony', 'Tony', 'Tony', 'Tony', 'Tony', 'Tony', 'Tony', 'Tony', 'Tony', 'Tony', 'Tony', 'Tony', 'Tony', 'Tony', 'Tony', 'Tony', 'Tony', 'Tony', 'Tony', 'Tony', 'Tony', 'Tony', 'Tony', 'Tony', 'Tony', 'Tony', 'Tony', 'Tony', 'Tony', 'Tony', 'Tony', 'Tony', 'Tony', 'Tony', 'Tony', 'Tony', 'Tony', 'Tony', 'Tony', 'Tony', 'Tony', 'Tony', 'Tony', 'Tony', 'Tony', 'Tony', 'Tony', 'Tony', 'Tony', 'Tony', 'Tony', 'Tony', 'Tony', 'Tony', 'Tony', 'Tony', 'Tony', 'Tony', 'Tony', 'Tony', 'Tony', 'Tony', 'Tony', 'Tony', 'Tony', 'Tony', 'Tony', 'Tony', 'Tony', 'Tony', 'Tony', 'Tony', 'Tony', 'Tony', 'Tony', 'Tony', 'Tony', 'Tony', 'Tony', 'Tony', 'Tony', 'Tony', 'Tony', 'Tony', 'Tony', 'Tony', 'Tony', 'Tony', 'Tony', 'Tony', 'Tony', 'Tony', 'Tony', 'Tony', 'Tony', 'Tony', 'Tony', 'Tony', 'Tony', 'Tony', 'Tony', 'Tony', 'Tony', 'Tony', 'Tony', 'Tony', 'Tony', 'Tony', 'Tony', 'Tony', 'Tony', 'Tony', 'Tony', 'Tony', 'Tony', 'Tony', 'Tony', 'Tony', 'Tony', 'Tony', 'Tony', 'Tony', 'Tony', 'Tony', 'Tony', 'Tony', 'Tony', 'Tony', 'Tony', 'Tony', 'Tony', 'Tony', 'Tony', 'Tony', 'Tony', 'Tony', 'Tony', 'Tony', 'Tony', 'Tony', 'Tony', 'Tony', 'Tony', 'Tony', 'Tony', 'Tony', 'Tony', 'Tony', 'Tony', 'Tony', 'Tony', 'Tony', 'Tony', 'Tony', 'Tony', 'Tony', 'Tony', 'Tony', 'Tony', 'Tony', 'Tony', 'Tony', 'Tony', 'Tony', 'Tony', 'Tony', 'Tony', 'Tony', 'Tony', 'Tony', 'Tony', 'Tony', 'Tony', 'Tony', 'Tony', 'Tony', 'Tony', 'Tony', 'Tony', 'Tony', 'Tony', 'Tony', 'Tony', 'Tony', 'Tony', 'Tony', 'Tony', 'Tony', 'Tony', 'Tony', 'Tony', 'Tony', 'Tony', 'Tony', 'Tony', 'Tony', 'Tony', 'Tony', 'Tony', 'Tony', 'Tony', 'Tony', 'Tony', 'Tony', 'Tony', 'Tony', 'Tony', 'Tony', 'Tony', 'Tony', 'Tony', 'Tony', 'Tony', 'Tony', 'Tony', 'Tony', 'Tony', 'Tony', 'Tony', 'Tony', 'Tony', 'Tony', 'Tony', 'Tony', 'Tony', 'Tony', 'Tony', 'Tony', 'Tony', 'Tony', 'Tony', 'Tony', 'Tony', 'Tony', 'Tony', 'Tony', 'Tony', 'Tony', 'Tony', 'Tony', 'Tony', 'Tony', 'Tony', 'Tony', 'Tony', 'Tony', 'Tony', 'Tony', 'Tony', 'Tony', 'Tony', 'Tony', 'Tony', 'Tony', 'Tony', 'Tony', 'Tony', 'Tony', 'Tony', 'Tony', 'Tony', 'Tony', 'Tony', 'Tony', 'Tony', 'Tony', 'Tony', 'Tony', 'Tony', 'Tony', 'Tony', 'Tony', 'Tony', 'Tony', 'Tony', 'Tony', 'Tony', 'Tony', 'Tony', 'Tony', 'Tony', 'Tony', 'Tony', 'Tony', 'Tony', 'Tony', 'Tony', 'Tony', 'Tony', 'Tony', 'Tony', 'Tony', 'Tony', 'Tony', 'Tony', 'Tony', 'Tony', 'Tony', 'Tony', 'Tony', 'Tony', 'Tony', 'Tony', 'Tony', 'Tony', 'Tony', 'Tony', 'Tony', 'Tony', 'Tony', 'Tony', 'Tony', 'Tony', 'Tony', 'Tony', 'Tony', 'Tony', 'Tony', 'Tony', 'Tony', 'Tony', 'Tony', 'Tony', 'Tony', 'Tony', 'Tony', 'Tony', 'Tony', 'Tony', 'Tony', 'Tony', 'Tony', 'Tony', 'Tony', 'Tony', 'Tony', 'Tony', 'Tony', 'Tony', 'Tony', 'Tony', 'Tony', 'Tony', 'Tony', 'Tony', 'Tony', 'Tony', 'Tony', 'Tony', 'Tony', 'Tony', 'Tony', 'Tony', 'Tony', 'Tony', 'Tony', 'Tony', 'Tony', 'Tony', 'Tony', 'Tony', 'Tony', 'Tony', 'Tony', 'Tony', 'Tony', 'Tony', 'Tony', 'Tony', 'Tony', 'Tony', 'Tony', 'Tony', 'Tony', 'Tony', 'Tony', 'Tony', 'Tony', 'Tony', 'Tony', 'Tony', 'Tony', 'Tony', 'Tony', 'Tony', 'Tony', 'Tony', 'Tony', 'Tony', 'Tony', 'Tony', 'Tony', 'Tony', 'Tony', 'Tony', 'Tony', 'Tony', 'Tony', 'Tony', 'Tony', 'Tony', 'Tony', 'Tony', 'Tony', 'Tony', 'Tony', 'Tony', 'Tony', 'Tony', 'Tony', 'Tony', 'Tony', 'Tony', 'Tony', 'Tony', 'Tony', 'Tony', 'Tony', 'Tony', 'Tony', 'Tony', 'Tony', 'Tony', 'Tony', 'Tony', 'Tony', 'Tony', 'Tony', 'Tony', 'Tony', 'Tony', 'Tony', 'Tony', 'Tony', 'Tony', 'Tony', 'Tony', 'Tony', 'Tony', 'Tony', 'Tony', 'Tony', 'Tony', 'Tony', 'Tony', 'Tony', 'Tony', 'Tony', 'Tony', 'Tony', 'Tony', 'Tony', 'Tony', 'Tony', 'Tony', 'Tony', 'Tony', 'Tony', 'Tony', 'Tony', 'Tony', 'Tony', 'Tony', 'Tony', 'Tony', 'Tony', 'Tony', 'Tony', 'Tony', 'Tony', 'Tony', 'Tony', 'Tony', 'Tony', 'Tony', 'Tony', 'Tony', 'Tony', 'Tony', 'Tony', 'Tony', 'Tony', 'Tony', 'Tony', 'Tony', 'Tony', 'Tony', 'Tony', 'Tony', 'Tony', 'Tony', 'Tony', 'Tony', 'Tony', 'Tony', 'Tony', 'Tony', 'Tony', 'Tony', 'Tony', 'Tony', 'Tony', 'Tony', 'Tony', 'Tony', 'Tony', 'Tony', 'Tony', 'Tony', 'Tony', 'Tony', 'Tony', 'Tony', 'Tony', 'Tony', 'Tony', 'Tony', 'Tony', 'Tony', 'Tony', 'Tony', 'Tony', 'Tony', 'Tony', 'Tony', 'Tony', 'Tony', 'Tony', 'Tony', 'Tony', 'Tony', 'Tony', 'Tony', 'Tony', 'Tony', 'Tony', 'Tony', 'Tony', 'Tony', 'Tony', 'Tony', 'Tony', 'Tony', 'Tony', 'Tony', 'Tony', 'Tony', 'Tony', 'Tony', 'Tony', 'Tony', 'Tony', 'Tony', 'Tony', 'Tony', 'Tony', 'Tony', 'Tony', 'Tony', 'Tony', 'Tony', 'Tony', 'Tony', 'Tony', 'Tony', 'Tony', 'Tony', 'Tony', 'Tony', 'Tony', 'Tony', 'Tony', 'Tony', 'Tony', 'Tony', 'Tony', 'Tony', 'Tony', 'Tony', 'Tony', 'Tony', 'Tony', 'Tony', 'Tony', 'Tony', 'Tony', 'Tony', 'Tony', 'Tony', 'Tony', 'Tony', 'Tony', 'Tony', 'Tony', 'Tony', 'Tony', 'Tony', 'Tony', 'Tony', 'Tony', 'Tony', 'Tony', 'Tony', 'Tony', 'Tony', 'Tony', 'Tony', 'Tony', 'Tony', 'Tony', 'Tony', 'Tony', 'Tony', 'Tony', 'Tony', 'Tony', 'Tony', 'Tony', 'Tony', 'Tony', 'Tony', 'Tony', 'Tony', 'Tony', 'Tony', 'Tony', 'Tony', 'Tony', 'Tony', 'Tony', 'Tony', 'Tony', 'Tony', 'Tony', 'Tony', 'Tony', 'Tony', 'Tony', 'Tony', 'Tony', 'Tony', 'Tony', 'Tony', 'Tony', 'Tony', 'Tony', 'Tony', 'Tony', 'Tony', 'Tony', 'Tony', 'Tony', 'Tony', 'Tony', 'Tony', 'Tony', 'Tony', 'Tony', 'Tony', 'Tony', 'Tony', 'Tony', 'Tony', 'Tony', 'Tony', 'Tony', 'Tony', 'Tony', 'Tony', 'Tony', 'Tony', 'Tony', 'Tony', 'Tony', 'Tony', 'Tony', 'Tony', 'Tony', 'Tony', 'Tony', 'Tony', 'Tony', 'Tony', 'Tony', 'Tony', 'Tony', 'Tony', 'Tony', 'Tony', 'Tony', 'Tony', 'Tony', 'Tony', 'Tony', 'Tony', 'Tony', 'Tony', 'Tony', 'Tony', 'Tony', 'Tony', 'Tony', 'Tony', 'Tony', 'Tony', 'Tony', 'Tony', 'Tony', 'Tony', 'Tony', 'Tony', 'Tony', 'Tony', 'Tony', 'Tony', 'Tony', 'Tony', 'Tony', 'Tony', 'Tony', 'Tony', 'Tony', 'Tony', 'Tony', 'Tony', 'Tony', 'Tony', 'Tony', 'Tony', 'Tony', 'Tony', 'Tony', 'Tony', 'Tony', 'Tony', 'Tony', 'Tony', 'Tony', 'Tony', 'Tony', 'Tony', 'Tony', 'Tony', 'Tony', 'Tony', 'Tony', 'Tony', 'Tony', 'Tony', 'Tony', 'Tony', 'Tony', 'Tony', 'Tony', 'Tony', 'Tony', 'Tony', 'Tony', 'Tony', 'Tony', 'Tony', 'Tony', 'Tony', 'Tony', 'Tony', 'Tony', 'Tony', 'Tony', 'Tony', 'Tony', 'Tony', 'Tony', 'Tony', 'Tony', 'Tony', 'Tony', 'Tony', 'Tony', 'Tony', 'Tony', 'Tony', 'Tony', 'Tony', 'Tony', 'Tony', 'Tony', 'Tony', 'Tony', 'Tony', 'Tony', 'Tony', 'Tony', 'Tony', 'Tony', 'Tony', 'Tony', 'Tony', 'Tony', 'Tony', 'Tony', 'Tony', 'Tony', 'Tony', 'Tony', 'Tony', 'Tony', 'Tony', 'Tony', 'Tony', 'Tony', 'Tony', 'Tony', 'Tony', 'Tony', 'Tony', 'Tony', 'Tony', 'Tony', 'Tony', 'Tony', 'Tony', 'Tony', 'Tony', 'Tony', 'Tony', 'Tony', 'Tony', 'Tony', 'Tony', 'Tony', 'Tony', 'Tony', 'Tony', 'Tony', 'Tony', 'Tony', 'Tony', 'Tony', 'Tony', 'Tony', 'Tony', 'Tony', 'Tony', 'Tony', 'Tony', 'Tony', 'Tony', 'Tony', 'Tony', 'Tony', 'Tony', 'Tony', 'Tony', 'Tony', 'Tony', 'Tony', 'Tony', 'Tony', 'Tony', 'Tony', 'Tony', 'Tony', 'Tony', 'Tony', 'Tony', 'Tony', 'Tony', 'Tony', 'Tony', 'Tony', 'Tony', 'Tony', 'Tony', 'Tony', 'Tony', 'Tony', 'Tony', 'Tony', 'Tony', 'Tony', 'Tony', 'Tony', 'Tony', 'Tony', 'Tony', 'Tony', 'Tony', 'Tony', 'Tony', 'Tony', 'Tony', 'Tony', 'Tony', 'Tony', 'Tony', 'Tony', 'Tony', 'Tony', 'Tony', 'Tony', 'Tony', 'Tony', 'Tony', 'Tony', 'Tony', 'Tony', 'Tony', 'Tony', 'Tony', 'Tony', 'Tony', 'Tony', 'Tony', 'Tony', 'Tony', 'Tony', 'Tony', 'Tony', 'Tony', 'Tony', 'Tony', 'Tony', 'Tony', 'Tony', 'Tony', 'Tony', 'Tony', 'Tony', 'Tony', 'Tony', 'Tony', 'Tony', 'Tony', 'Tony', 'Tony', 'Tony', 'Tony', 'Tony', 'Tony', 'Tony', 'Tony', 'Tony', 'Tony', 'Tony', 'Tony', 'Tony', 'Tony', 'Tony', 'Tony', 'Tony', 'Tony', 'Tony', 'Tony', 'Tony', 'Tony', 'Tony', 'Tony', 'Tony', 'Tony', 'Tony', 'Tony', 'Tony', 'Tony', 'Tony', 'Tony', 'Tony', 'Tony', 'Tony', 'Tony', 'Tony', 'Tony', 'Tony', 'Tony', 'Tony', 'Tony', 'Tony', 'Tony', 'Tony', 'Tony', 'Tony', 'Tony', 'Tony', 'Tony', 'Tony', 'Tony', 'Tony', 'Tony', 'Tony', 'Tony', 'Tony', 'Tony', 'Tony', 'Tony', 'Tony', 'Tony', 'Tony', 'Tony', 'Tony', 'Tony', 'Tony', 'Tony', 'Tony', 'Tony', 'Tony', 'Tony', 'Tony', 'Tony', 'Tony', 'Tony', 'Tony', 'Tony', 'Tony', 'Tony', 'Tony', 'Tony', 'Tony', 'Tony', 'Tony', 'Tony', 'Tony', 'Tony', 'Tony', 'Tony', 'Tony', 'Tony', 'Tony', 'Tony', 'Tony', 'Tony', 'Tony', 'Tony', 'Tony', 'Tony', 'Tony', 'Tony', 'Tony', 'Tony', 'Tony', 'Tony', 'Tony', 'Tony', 'Tony', 'Tony', 'Tony', 'Tony', 'Tony', 'Tony', 'Tony', 'Tony', 'Tony', 'Tony', 'Tony', 'Tony', 'Tony', 'Tony', 'Tony', 'Tony', 'Tony', 'Tony', 'Tony', 'Tony', 'Tony', 'Tony', 'Tony', 'Tony', 'Tony', 'Tony', 'Tony', 'Tony', 'Tony', 'Tony', 'Tony', 'Tony', 'Tony', 'Tony', 'Tony', 'Tony', 'Tony', 'Tony', 'Tony', 'Tony', 'Tony', 'Tony', 'Tony', 'Tony', 'Tony', 'Tony', 'Tony', 'Tony', 'Tony', 'Tony', 'Tony', 'Tony', 'Tony', 'Tony', 'Tony', 'Tony', 'Tony', 'Tony', 'Tony', 'Tony', 'Tony', 'Tony', 'Tony', 'Tony', 'Tony', 'Tony', 'Tony', 'Tony', 'Tony', 'Tony', 'Tony', 'Tony', 'Tony', 'Tony', 'Tony', 'Tony', 'Tony', 'Tony', 'Tony', 'Tony', 'Tony', 'Tony', 'Tony', 'Tony', 'Tony', 'Tony', 'Tony', 'Tony', 'Tony', 'Tony', 'Tony', 'Tony', 'Tony', 'Tony', 'Tony', 'Tony', 'Tony', 'Tony', 'Tony', 'Tony', 'Tony', 'Tony', 'Tony', 'Tony', 'Tony', 'Tony', 'Tony', 'Tony', 'Tony', 'Tony', 'Tony', 'Tony', 'Tony', 'Tony', 'Tony', 'Tony', 'Tony', 'Tony', 'Tony', 'Tony', 'Tony', 'Tony', 'Tony', 'Tony', 'Tony', 'Tony', 'Tony', 'Tony', 'Tony', 'Tony', 'Tony', 'Tony', 'Tony', 'Tony', 'Tony', 'Tony', 'Tony', 'Tony', 'Tony', 'Tony', 'Tony', 'Tony', 'Tony', 'Tony', 'Tony', 'Tony', 'Tony', 'Tony', 'Tony', 'Tony', 'Tony', 'Tony', 'Tony', 'Tony', 'Tony', 'Tony', 'Tony', 'Tony', 'Tony', 'Tony', 'Tony', 'Tony', 'Tony', 'Tony', 'Tony', 'Tony', 'Tony', 'Tony', 'Tony', 'Tony', 'Tony', 'Tony', 'Tony', 'Tony', 'Tony', 'Tony', 'Tony', 'Tony', 'Tony', 'Tony', 'Tony', 'Tony', 'Tony', 'Tony', 'Tony', 'Tony', 'Tony', 'Tony', 'Tony', 'Tony', 'Tony', 'Tony', 'Tony', 'Tony', 'Tony', 'Tony', 'Tony', 'Tony', 'Tony', 'Tony', 'Tony', 'Tony', 'Tony', 'Tony', 'Tony', 'Tony', 'Tony', 'Tony', 'Tony', 'Tony', 'Tony', 'Tony', 'Tony', 'Tony', 'Tony', 'Tony', 'Tony', 'Tony', 'Tony', 'Tony', 'Tony', 'Tony', 'Tony', 'Tony', 'Tony', 'Tony', 'Tony', 'Tony', 'Tony', 'Tony', 'Tony', 'Tony', 'Tony', 'Tony', 'Tony', 'Tony', 'Tony', 'Tony', 'Tony', 'Tony', 'Tony', 'Tony', 'Tony', 'Tony', 'Tony', 'Tony', 'Tony', 'Tony', 'Tony', 'Tony', 'Tony', 'Tony', 'Tony', 'Tony', 'Tony', 'Tony', 'Tony', 'Tony', 'Tony', 'Tony', 'Tony', 'Tony', 'Tony', 'Tony', 'Tony', 'Tony', 'Tony', 'Tony', 'Tony', 'Tony', 'Tony', 'Tony', 'Tony', 'Tony', 'Tony', 'Tony', 'Tony', 'Tony', 'Tony', 'Tony', 'Tony', 'Tony', 'Tony', 'Tony', 'Tony', 'Tony', 'Tony', 'Tony', 'Tony', 'Tony', 'Tony', 'Tony', 'Tony', 'Tony', 'Tony', 'Tony', 'Tony', 'Tony', 'Tony', 'Tony', 'Tony', 'Tony', 'Tony', 'Tony', 'Tony', 'Tony', 'Tony', 'Tony', 'Tony', 'Tony', 'Tony', 'Tony', 'Tony', 'Tony', 'Tony', 'Tony', 'Tony', 'Tony', 'Tony', 'Tony', 'Tony', 'Tony', 'Tony', 'Tony', 'Tony', 'Tony', 'Tony', 'Tony', 'Tony', 'Tony', 'Tony', 'Tony', 'Tony', 'Tony', 'Tony', 'Tony', 'Tony', 'Tony', 'Tony', 'Tony', 'Tony', 'Tony', 'Tony', 'Tony', 'Tony', 'Tony', 'Tony', 'Tony', 'Tony', 'Tony', 'Tony', 'Tony', 'Tony', 'Tony', 'Tony', 'Tony', 'Tony', 'Tony', 'Tony', 'Tony', 'Tony', 'Tony', 'Tony', 'Tony', 'Tony', 'Tony', 'Tony', 'Tony', 'Tony', 'Tony', 'Tony', 'Tony', 'Tony', 'Tony', 'Tony', 'Tony', 'Tony', 'Tony', 'Tony', 'Tony', 'Tony', 'Tony', 'Tony', 'Tony', 'Tony', 'Tony', 'Tony', 'Tony', 'Tony', 'Tony', 'Tony', 'Tony', 'Tony', 'Tony', 'Tony', 'Tony', 'Tony', 'Tony', 'Tony', 'Tony', 'Tony', 'Tony', 'Tony', 'Tony', 'Tony', 'Tony', 'Tony', 'Tony', 'Tony', 'Tony', 'Tony', 'Tony', 'Tony', 'Tony', 'Tony', 'Tony', 'Tony', 'Tony', 'Tony', 'Tony', 'Tony', 'Tony', 'Tony', 'Tony', 'Tony', 'Tony', 'Tony', 'Tony', 'Tony', 'Tony', 'Tony', 'Tony', 'Tony', 'Tony', 'Tony', 'Tony', 'Tony', 'Tony', 'Tony', 'Tony', 'Tony', 'Tony', 'Tony', 'Tony', 'Tony', 'Tony', 'Tony', 'Tony', 'Tony', 'Tony', 'Tony', 'Tony', 'Tony', 'Tony', 'Tony', 'Tony', 'Tony', 'Tony', 'Tony', 'Tony', 'Tony', 'Tony', 'Tony', 'Tony', 'Tony', 'Tony', 'Tony', 'Tony', 'Tony', 'Tony', 'Tony', 'Tony', 'Tony', 'Tony', 'Tony', 'Tony', 'Tony', 'Tony', 'Tony', 'Tony', 'Tony', 'Tony', 'Tony', 'Tony', 'Tony', 'Tony', 'Tony', 'Tony', 'Tony', 'Tony', 'Tony', 'Tony', 'Tony', 'Tony', 'Tony', 'Tony', 'Tony', 'Tony', 'Tony', 'Tony', 'Tony', 'Tony', 'Tony', 'Tony', 'Tony', 'Tony', 'Tony', 'Tony', 'Tony', 'Tony', 'Tony', 'Tony', 'Tony', 'Tony', 'Tony', 'Tony', 'Tony', 'Tony', 'Tony', 'Tony', 'Tony', 'Tony', 'Tony', 'Tony', 'Tony', 'Tony', 'Tony', 'Tony', 'Tony', 'Tony', 'Tony', 'Tony', 'Tony', 'Tony', 'Tony', 'Tony', 'Tony', 'Tony', 'Tony', 'Tony', 'Tony', 'Tony', 'Tony', 'Tony', 'Tony', 'Tony', 'Tony', 'Tony', 'Tony', 'Tony', 'Tony', 'Tony', 'Tony', 'Tony', 'Tony', 'Tony', 'Tony', 'Tony', 'Tony', 'Tony', 'Tony', 'Tony', 'Tony', 'Tony', 'Tony', 'Tony', 'Tony', 'Tony', 'Tony', 'Tony', 'Tony', 'Tony', 'Tony', 'Tony', 'Tony', 'Tony', 'Tony', 'Tony', 'Tony', 'Tony', 'Tony', 'Tony', 'Tony', 'Tony', 'Tony', 'Tony', 'Tony', 'Tony', 'Tony', 'Tony', 'Tony', 'Tony', 'Tony', 'Tony', 'Tony', 'Tony', 'Tony', 'Tony', 'Tony', 'Tony', 'Tony', 'Tony', 'Tony', 'Tony', 'Tony', 'Tony', 'Tony', 'Tony', 'Tony', 'Tony', 'Tony', 'Tony', 'Tony', 'Tony', 'Tony', 'Tony', 'Tony', 'Tony', 'Tony', 'Tony', 'Tony', 'Tony', 'Tony', 'Tony', 'Tony', 'Tony', 'Tony', 'Tony', 'Tony', 'Tony', 'Tony', 'Tony', 'Tony', 'Tony', 'Tony', 'Tony', 'Tony', 'Tony', 'Tony', 'Tony', 'Tony', 'Tony', 'Tony', 'Tony', 'Tony', 'Tony', 'Tony', 'Tony', 'Tony', 'Tony', 'Tony', 'Tony', 'Tony', 'Tony', 'Tony', 'Tony', 'Tony', 'Tony', 'Tony', 'Tony', 'Tony', 'Tony', 'Tony', 'Tony', 'Tony', 'Tony', 'Tony', 'Tony', 'Tony', 'Tony', 'Tony', 'Tony', 'Tony', 'Tony', 'Tony', 'Tony', 'Tony', 'Tony', 'Tony', 'Tony', 'Tony', 'Tony', 'Tony', 'Tony', 'Tony', 'Tony', 'Tony', 'Tony', 'Tony', 'Tony', 'Tony', 'Tony', 'Tony', 'Tony', 'Tony', 'Tony', 'Tony', 'Tony', 'Tony', 'Tony', 'Tony', 'Tony', 'Tony', 'Tony', 'Tony', 'Tony', 'Tony', 'Tony', 'Tony', 'Tony', 'Tony', 'Tony', 'Tony', 'Tony', 'Tony', 'Tony', 'Tony', 'Tony', 'Tony', 'Tony', 'Tony', 'Tony', 'Tony', 'Tony', 'Tony', 'Tony']\n"
     ]
    }
   ],
   "source": [
    "while True:\n",
    "    print(\"Please enter the new data.\")\n",
    "    name = input(\"Please enter the new name: \")\n",
    "\n",
    "    for n, i in enumerate(names):\n",
    "        if name == i:\n",
    "            print(\"Found duplicate\")\n",
    "            break\n",
    "        else: \n",
    "            names.append(name)\n",
    "            print(names)\n",
    "            break\n",
    "    break"
   ]
  },
  {
   "cell_type": "code",
   "execution_count": 49,
   "metadata": {},
   "outputs": [
    {
     "output_type": "stream",
     "name": "stdout",
     "text": [
      "['Maria', 'Rohan', 'Tony', 'Valentina']\n"
     ]
    }
   ],
   "source": [
    "names.sort()\n",
    "print(names)"
   ]
  }
 ]
}