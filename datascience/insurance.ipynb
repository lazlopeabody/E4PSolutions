{
 "metadata": {
  "language_info": {
   "codemirror_mode": {
    "name": "ipython",
    "version": 3
   },
   "file_extension": ".py",
   "mimetype": "text/x-python",
   "name": "python",
   "nbconvert_exporter": "python",
   "pygments_lexer": "ipython3",
   "version": "3.8.5"
  },
  "orig_nbformat": 2,
  "kernelspec": {
   "name": "python385jvsc74a57bd0a151ed374657309399594241976f2ab9cb2307b7929a2a67f663721314b940cd",
   "display_name": "Python 3.8.5 64-bit ('juslearn': conda)",
   "language": "python"
  }
 },
 "nbformat": 4,
 "nbformat_minor": 2,
 "cells": [
  {
   "cell_type": "code",
   "execution_count": 2,
   "metadata": {},
   "outputs": [],
   "source": [
    "import numpy as np \n",
    "import matplotlib.pyplot as plt\n",
    "import seaborn as sns"
   ]
  },
  {
   "cell_type": "code",
   "execution_count": 12,
   "metadata": {},
   "outputs": [],
   "source": [
    "def calculate_insurance_cost(_age, _sex, _bmi, _numchild, _smoker, _name):\n",
    "\n",
    "    estimated_cost = 250*_age - 128*_sex + 370*_bmi + 425*_numchild + 24000*_smoker - 12500\n",
    "    print(\"The estimated insurance cost for \" + _name + \" is \" + str(estimated_cost) + \" dollars.\")\n",
    "    return estimated_cost\n",
    "\n",
    "def insurance_dif(_name1, _insurance_cost1, _name2, _insurance_cost2):\n",
    "    cost_dif = _insurance_cost1 - _insurance_cost2\n",
    "    print(\"The Insurance Cost difference between \" + _name1 + \" and \" + _name2 + \" is \" + str(cost_dif))\n",
    "    return cost_dif\n"
   ]
  },
  {
   "cell_type": "code",
   "execution_count": 10,
   "metadata": {},
   "outputs": [
    {
     "output_type": "stream",
     "name": "stdout",
     "text": [
      "The estimated insurance cost for Maria is 5469.0 dollars.\n"
     ]
    }
   ],
   "source": [
    "maria_insurance_cost = calculate_insurance_cost(28, 0, 26.2, 3, 0, \"Maria\")"
   ]
  },
  {
   "cell_type": "code",
   "execution_count": 11,
   "metadata": {},
   "outputs": [
    {
     "output_type": "stream",
     "name": "stdout",
     "text": [
      "The estimated insurance cost for Omar is 28336.0 dollars.\n"
     ]
    }
   ],
   "source": [
    "omar_insurance_cost = calculate_insurance_cost(35, 1, 22.2, 0, 1, \"Omar\")"
   ]
  },
  {
   "cell_type": "code",
   "execution_count": 13,
   "metadata": {},
   "outputs": [
    {
     "output_type": "stream",
     "name": "stdout",
     "text": [
      "The Insurance Cost difference between Maria and Omar is -22867.0\n"
     ]
    },
    {
     "output_type": "execute_result",
     "data": {
      "text/plain": [
       "-22867.0"
      ]
     },
     "metadata": {},
     "execution_count": 13
    }
   ],
   "source": [
    "insurance_dif(\"Maria\", maria_insurance_cost, \"Omar\", omar_insurance_cost)"
   ]
  }
 ]
}