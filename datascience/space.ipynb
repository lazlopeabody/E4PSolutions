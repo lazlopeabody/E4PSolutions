{
 "metadata": {
  "language_info": {
   "codemirror_mode": {
    "name": "ipython",
    "version": 3
   },
   "file_extension": ".py",
   "mimetype": "text/x-python",
   "name": "python",
   "nbconvert_exporter": "python",
   "pygments_lexer": "ipython3",
   "version": "3.8.5"
  },
  "orig_nbformat": 2,
  "kernelspec": {
   "name": "python385jvsc74a57bd0a151ed374657309399594241976f2ab9cb2307b7929a2a67f663721314b940cd",
   "display_name": "Python 3.8.5 64-bit ('juslearn': conda)",
   "language": "python"
  }
 },
 "nbformat": 4,
 "nbformat_minor": 2,
 "cells": [
  {
   "cell_type": "code",
   "execution_count": 101,
   "metadata": {},
   "outputs": [
    {
     "output_type": "stream",
     "name": "stdout",
     "text": [
      "I have information for the following planets:\n\n   1. Venus   2. Mars    3. Jupiter\n   4. Saturn  5. Uranus  6. Neptune\n\nYour Weight on Jupiter is 79.06!\n"
     ]
    }
   ],
   "source": [
    "#1\tVenus\t0.91\n",
    "#2\tMars\t0.38\n",
    "#3\tJupiter\t2.34\n",
    "#4\tSaturn\t1.06\n",
    "#5\tUranus\t0.92\n",
    "#6\tNeptune\t1.19\n",
    "\n",
    "print(\"I have information for the following planets:\\n\")\n",
    "\n",
    "print(\"   1. Venus   2. Mars    3. Jupiter\")\n",
    "print(\"   4. Saturn  5. Uranus  6. Neptune\\n\")\n",
    " \n",
    "weight = 185\n",
    "planet = 3\n",
    "\n",
    "planet_weight = weight/planet\n",
    "\n",
    "# Write an if statement below:\n",
    "if planet == 1:\n",
    "    planet_weight = weight/.91\n",
    "    print(\"Your Weight on Venus is \" + str(round(planet_weight, 2)) + \"!\")\n",
    "\n",
    "elif planet == 2:\n",
    "    planet_weight = weight/.38\n",
    "    print(\"Your Weight on Mars is \" + str(round(planet_weight, 2)) + \"!\")\n",
    "    \n",
    "elif planet == 3:\n",
    "    planet_weight = weight/2.34\n",
    "    print(\"Your Weight on Jupiter is \" + str(round(planet_weight, 2)) + \"!\")\n",
    "\n",
    "elif planet == 4:\n",
    "    planet_weight = weight/1.06\n",
    "    print(\"Your Weight on Saturn is \" + str(round(planet_weight, 2)) + \"!\")\n",
    "\n",
    "elif planet == 5:\n",
    "    planet_weight = weight/.92\n",
    "    print(\"Your Weight on Uranus is \" + str(round(planet_weight, 2)) + \"!\")\n",
    "\n",
    "elif planet == 6:\n",
    "    planet_weight = weight/1.19\n",
    "    print(\"Your Weight on Neptune is \" + str(round(planet_weight, 2)) + \"!\")\n",
    "    \n",
    "else:\n",
    "    print(\"Your still on planet Earth and you still wiegh : \" + weight)"
   ]
  },
  {
   "cell_type": "code",
   "execution_count": 105,
   "metadata": {},
   "outputs": [],
   "source": [
    "planet_dict = {\"Venus\":\t0.91, \"Mars\": 0.38, \"Jupiter\" :\t2.34, \"Saturn\" : 1.06, \"Uranus\" : 0.92, \"Neptune\" : 1.19}"
   ]
  },
  {
   "cell_type": "code",
   "execution_count": 168,
   "metadata": {},
   "outputs": [],
   "source": [
    "def calculate_weight(w, n):\n",
    "    n = n-1\n",
    "    return str(round((w / list(planet_dict.values())[n]), 2))\n",
    "\n",
    "def retieve_planet(n):\n",
    "    n = n-1\n",
    "    return list(planet_dict.keys())[n]\n",
    "\n",
    "def planet_weight(_num, _weight):\n",
    "    \n",
    "    if _num == 1:\n",
    "        print(\"Your \" + retieve_planet(_num) + \" weight is ==> \" + calculate_weight(_weight, _num))\n",
    "\n",
    "    elif _num == 2:\n",
    "        print(\"Your \" + retieve_planet(_num) + \" weight is ==> \" + calculate_weight(_weight, _num))\n",
    "    \n",
    "    elif _num == 3:\n",
    "        print(\"Your \" + retieve_planet(_num) + \" weight is ==> \" + calculate_weight(_weight, _num))\n",
    "    \n",
    "    elif _num == 4:\n",
    "        print(\"Your \" + retieve_planet(_num) + \" weight is ==> \" + calculate_weight(_weight, _num))\n",
    "    \n",
    "    elif _num == 5:\n",
    "        print(\"Your \" + retieve_planet(_num) + \" weight is ==> \" + calculate_weight(_weight, _num))\n",
    "    \n",
    "    elif _num == 6:\n",
    "        print(\"Your \" + retieve_planet(_num) + \" weight is ==> \" + calculate_weight(_weight, _num))\n"
   ]
  },
  {
   "cell_type": "code",
   "execution_count": 169,
   "metadata": {},
   "outputs": [
    {
     "output_type": "stream",
     "name": "stdout",
     "text": [
      "Your Venus weight is ==> 203.3\n"
     ]
    }
   ],
   "source": [
    "planet_weight(1, 185)"
   ]
  }
 ]
}